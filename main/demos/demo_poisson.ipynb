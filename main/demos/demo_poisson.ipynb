{
 "cells": [
  {
   "cell_type": "markdown",
   "id": "845147ee",
   "metadata": {},
   "source": [
    "# Poisson problem\n",
    "\n",
    "This demo is implemented in {download}`demo_poisson.py`. It\n",
    "illustrates:\n",
    "\n",
    "- How to solve a simple PDE using QUGaR and FEniCSx.\n",
    "- How to impose Dirichlet conditions in a strong way.\n",
    "- How to impose Neumann condition on an unfitted boundary.\n",
    "\n",
    "## Problem definition\n",
    "\n",
    "Let us consider the domain $\\Omega \\subset \\mathbb{R}^n$,\n",
    "immersed in a mesh $\\mathcal{T}(\\Omega)$ (see\n",
    "[Divergence theorem demo](demo_div_thm.md) first for further details\n",
    "about the immersed setting), and the finite element space $V$ defined\n",
    "over the mesh $\\mathcal{T}(\\Omega)$. The Poisson problem reads:\n",
    "Finding $u \\in V$ such that\n",
    "\n",
    "$$\n",
    "\\begin{align}\n",
    "  - \\nabla^{2} u &= f \\quad {\\rm in} \\ \\Omega, \\\\\n",
    "  u &= 0 \\quad {\\rm on} \\ \\Gamma_{D}, \\\\\n",
    "  \\nabla u \\cdot n &= g \\quad {\\rm on} \\ \\Gamma_{N}.\n",
    "\\end{align}\n",
    "$$\n",
    "\n",
    "where $f$ and $g$ are input data and $n$ denotes the outward directed\n",
    "boundary normal. The variational problem reads: find $u \\in V_D$ such\n",
    "that\n",
    "\n",
    "$$\n",
    "a(u, v) = L(v) \\quad \\forall \\ v \\in V_0,\n",
    "$$\n",
    "\n",
    "where $V_D$ is the space of functions that satisfy the Dirichlet\n",
    "boundary conditions, $V_0$ is the space of test functions that\n",
    "vanish on the Dirichlet boundary $\\Gamma_D$, and $a(u, v)$ and\n",
    "$L(v)$ are the bilinear and linear forms defined as:\n",
    "\n",
    "$$\n",
    "\\begin{align}\n",
    "  a(u, v) &:= \\int_{\\Omega} \\nabla u \\cdot \\nabla v \\, {\\rm d} x, \\\\\n",
    "  L(v)    &:= \\int_{\\Omega} f v \\, {\\rm d} x + \\int_{\\Gamma_{N}} g v \\, {\\rm d} s.\n",
    "\\end{align}\n",
    "$$\n",
    "\n",
    "In this demo we consider a domain $\\Omega$ that is the *classical*\n",
    "plate with hole defined as a square domain $[0,1]^2$ and the hole has\n",
    "radius $R=0.3$ and it is centered at $(0,0)$ (see the figure below).\n",
    "We consider that the Neumann boundary $\\Gamma_N$ correponds to the\n",
    "circular section of the boundary, while the Dirichlet boundary is its\n",
    "complement $\\Gamma_D=\\partial\\Omega\\setminus\\Gamma_N$.\n",
    "\n",
    "For the Poisson problem we consider the following a manufactured\n",
    "solution (see figure below):\n",
    "\n",
    "$$\n",
    "\\begin{align}\n",
    "  u(x,y) &= \\sin(\\pi x) \\sin(\\pi y), \\\\\n",
    "  f(x,y) &= -\\Delta u, \\\\\n",
    "  g(x,y) &= \\nabla u \\cdot n.\n",
    "\\end{align}\n",
    "$$\n",
    "\n",
    "| Plate with hole unfitted domain | Manufactured solution |\n",
    "|:---:|:---:|\n",
    "| ![Plate with hole unfitted domain](assets/demo_poisson_geom.png) | ![Manufactured solution](assets/demo_poisson_uex.png) |\n",
    "\n",
    "## Implementation\n",
    "\n",
    "### Modules import\n",
    "First we add the needed modules and functions:"
   ]
  },
  {
   "cell_type": "code",
   "execution_count": null,
   "id": "2848995c",
   "metadata": {
    "lines_to_next_cell": 2
   },
   "outputs": [],
   "source": [
    "\n",
    "from qugar.utils import has_FEniCSx, has_PETSc\n",
    "\n",
    "if not has_FEniCSx:\n",
    "    raise ValueError(\"FEniCSx installation not found is required.\")\n",
    "\n",
    "if not has_PETSc:\n",
    "    raise ValueError(\"petsc4py installation not found is required.\")\n",
    "\n",
    "\n",
    "from pathlib import Path\n",
    "\n",
    "from mpi4py import MPI\n",
    "\n",
    "import dolfinx.fem\n",
    "import dolfinx.fem.petsc\n",
    "import dolfinx.io\n",
    "import numpy as np\n",
    "import ufl\n",
    "from dolfinx import default_scalar_type as dtype\n",
    "\n",
    "import qugar\n",
    "import qugar.impl\n",
    "from qugar.dolfinx import LinearProblem, ds_bdry_unf, mapped_normal\n",
    "from qugar.mesh import create_unfitted_impl_Cartesian_mesh\n"
   ]
  },
  {
   "cell_type": "markdown",
   "id": "cc9c8c0e",
   "metadata": {},
   "source": [
    "### Geometry and mesh"
   ]
  },
  {
   "cell_type": "markdown",
   "id": "298fd96d",
   "metadata": {},
   "source": [
    "We define the plate with hole geometry as the the negative part\n",
    "of a disk of radius $R=0.3$ centered at the origin."
   ]
  },
  {
   "cell_type": "code",
   "execution_count": null,
   "id": "8d584abf",
   "metadata": {},
   "outputs": [],
   "source": [
    "radius = 0.3\n",
    "disk = qugar.impl.create_disk(radius, center=np.array([0, 0], dtype))\n",
    "impl_func = qugar.impl.create_negative(disk)"
   ]
  },
  {
   "cell_type": "markdown",
   "id": "043a20b0",
   "metadata": {},
   "source": [
    "We create an {py:class}`unfitted Cartesian mesh<qugar.mesh.UnfittedCartMesh>`\n",
    "(corresponding to $\\mathcal{T}$) in which we embed the domain $\\Omega$.\n",
    "This is a Cartesian mesh corresponding to the domain $[0,1]^2$ and\n",
    "with `n_cells` cells per direction."
   ]
  },
  {
   "cell_type": "code",
   "execution_count": null,
   "id": "d909ba11",
   "metadata": {},
   "outputs": [],
   "source": [
    "n_cells = 8\n",
    "\n",
    "unf_mesh = create_unfitted_impl_Cartesian_mesh(\n",
    "    MPI.COMM_WORLD, impl_func, n_cells, exclude_empty_cells=True, dtype=dtype\n",
    ")\n"
   ]
  },
  {
   "cell_type": "markdown",
   "id": "5e1d6d63",
   "metadata": {},
   "source": [
    "### Spaces and functions"
   ]
  },
  {
   "cell_type": "markdown",
   "id": "7bdd5fb1",
   "metadata": {},
   "source": [
    "We create the manufactured solution, its gradient, and source term:"
   ]
  },
  {
   "cell_type": "code",
   "execution_count": null,
   "id": "36c3bf6f",
   "metadata": {},
   "outputs": [],
   "source": [
    "x = ufl.SpatialCoordinate(unf_mesh)\n",
    "uex = ufl.sin(np.pi * x[0]) * ufl.sin(np.pi * x[1])\n",
    "grad_uex = ufl.grad(uex)\n",
    "f = -ufl.div(grad_uex)  # -np.pi * np.pi * uex"
   ]
  },
  {
   "cell_type": "markdown",
   "id": "c60b5c65",
   "metadata": {},
   "source": [
    "and the finite element space $V$ over the unfitted mesh\n",
    "(corresponding to the mesh $\\mathcal{T}$) needed to define the test\n",
    "and trial functions $u$ and $v$.\n",
    "The finite element space is defined as a Lagrange space of the given\n",
    "`degree` (2 in this case)."
   ]
  },
  {
   "cell_type": "code",
   "execution_count": null,
   "id": "a5b4068a",
   "metadata": {},
   "outputs": [],
   "source": [
    "degree = 2\n",
    "V = dolfinx.fem.functionspace(unf_mesh, (\"Lagrange\", degree))\n",
    "u, v = ufl.TrialFunction(V), ufl.TestFunction(V)\n",
    "\n",
    "facets = dolfinx.mesh.locate_entities_boundary(\n",
    "    unf_mesh,\n",
    "    dim=(unf_mesh.topology.dim - 1),\n",
    "    marker=lambda x: np.isclose(x[0], 0.0)\n",
    "    | np.isclose(x[0], 1.0)\n",
    "    | np.isclose(x[1], 0.0)\n",
    "    | np.isclose(x[1], 1.0),\n",
    ")"
   ]
  },
  {
   "cell_type": "markdown",
   "id": "95da62da",
   "metadata": {},
   "source": [
    "We now find the degrees-of-freedom that are associated with the\n",
    "boundary facets using {py:func}`locate_dofs_topological\n",
    "<dolfinx.fem.locate_dofs_topological>`:"
   ]
  },
  {
   "cell_type": "code",
   "execution_count": null,
   "id": "6acb22a1",
   "metadata": {},
   "outputs": [],
   "source": [
    "dofs = dolfinx.fem.locate_dofs_topological(V=V, entity_dim=1, entities=facets)"
   ]
  },
  {
   "cell_type": "markdown",
   "id": "db4e0d5e",
   "metadata": {},
   "source": [
    "and use {py:func}`dirichletbc <dolfinx.fem.dirichletbc>` to create a\n",
    "{py:class}`DirichletBC <dolfinx.fem.DirichletBC>` class that\n",
    "represents the boundary condition:"
   ]
  },
  {
   "cell_type": "code",
   "execution_count": null,
   "id": "80612604",
   "metadata": {},
   "outputs": [],
   "source": [
    "bc = dolfinx.fem.dirichletbc(value=dtype(0), dofs=dofs, V=V)"
   ]
  },
  {
   "cell_type": "markdown",
   "id": "b95e9e9b",
   "metadata": {},
   "source": [
    "Note that for this particular solution, the exact condition is\n",
    "zero on $\\Gamma_D$."
   ]
  },
  {
   "cell_type": "markdown",
   "id": "fec4e430",
   "metadata": {},
   "source": [
    "### Linear forms"
   ]
  },
  {
   "cell_type": "markdown",
   "id": "a5e491bb",
   "metadata": {},
   "source": [
    "We define the variational problem to be solved, which is\n",
    "equivalent to the $L^2$ projection of $f$ onto $V$, and generate\n",
    "the corresponding bilinear and linear forms `a` and `L` using\n",
    "QUGaR's custom form functions.\n",
    "The number of quadrature points per cell (or integration cell\n",
    "in the case of cut cells) is set to `degree + 1` to\n",
    "prevent DOLFINx from using a higher-order quadrature rule\n",
    "(because of the trigonometric right-hand side expression)."
   ]
  },
  {
   "cell_type": "code",
   "execution_count": null,
   "id": "40b0e1be",
   "metadata": {},
   "outputs": [],
   "source": [
    "n_quad_pts = degree + 1\n",
    "quad_degree = 2 * n_quad_pts + 1\n",
    "ds_unf = ds_bdry_unf(domain=unf_mesh, degree=quad_degree)\n",
    "g = ufl.dot(grad_uex, mapped_normal(unf_mesh))\n",
    "a = ufl.dot(ufl.grad(u), ufl.grad(v)) * ufl.dx(degree=quad_degree)\n",
    "L = f * v * ufl.dx(degree=quad_degree) + g * v * ds_unf\n"
   ]
  },
  {
   "cell_type": "markdown",
   "id": "57ea9233",
   "metadata": {},
   "source": [
    "### Linear system solution"
   ]
  },
  {
   "cell_type": "markdown",
   "id": "eeb00858",
   "metadata": {},
   "source": [
    "We solve the associated linear system\n",
    "$A\\mathbf{u} = \\mathbf{b}$, where $\\mathbf{u}$ is the\n",
    "solution of the problem. The solution is stored in a\n",
    "a finite element function `uh` defined over the same finite\n",
    "element space $V$ as the trial functions.\n",
    "\n",
    "In this case we use a direct solver (Cholesky) to solve the\n",
    "linear system. However, due to the potentially ill-conditioning\n",
    "of the matrix, we use a (symmetric) Jacobi preconditioner.\n",
    "It is known that Jacobi preconditioners are not very effective\n",
    "for Lagrange elements, but still help."
   ]
  },
  {
   "cell_type": "code",
   "execution_count": null,
   "id": "718095c3",
   "metadata": {
    "lines_to_next_cell": 2
   },
   "outputs": [],
   "source": [
    "petsc_options = {\n",
    "    \"ksp_type\": \"preonly\",\n",
    "    \"pc_type\": \"cholesky\",\n",
    "    \"ksp_diagonal_scale\": True,  # Jacobi\n",
    "    # \"ksp_diagonal_scale_fix\": True, # transformsa back A an b after Jacobi\n",
    "}\n",
    "\n",
    "\n",
    "problem = LinearProblem(a, L, bcs=[bc], petsc_options=petsc_options)\n",
    "problem.solve()\n",
    "\n",
    "uh = problem.u"
   ]
  },
  {
   "cell_type": "markdown",
   "id": "4157f147",
   "metadata": {},
   "source": [
    "### Visualization"
   ]
  },
  {
   "cell_type": "markdown",
   "id": "0fdda475",
   "metadata": {},
   "source": [
    "Finally, we visualize the obtained solution by generating reparameterization\n",
    "meshes and interpolating the solution into them.\n",
    "For further details check the\n",
    "[Visualization section](demo_L2_projection.md#visualization) in the $L^2$ projection demo.\n",
    "an auxiliar mesh that reparameterizes the unfitted domain."
   ]
  },
  {
   "cell_type": "code",
   "execution_count": null,
   "id": "88026fee",
   "metadata": {},
   "outputs": [],
   "source": [
    "rep_degree = 3\n",
    "reparam = qugar.reparam.create_reparam_mesh(unf_mesh, degree=rep_degree, levelset=False)\n",
    "rep_mesh = reparam.create_mesh()\n",
    "rep_mesh_wb = reparam.create_mesh(wirebasket=True)\n",
    "\n",
    "Vrep = dolfinx.fem.functionspace(rep_mesh, (\"CG\", rep_degree))\n",
    "interp_data = qugar.reparam.create_interpolation_data(Vrep, V)\n",
    "uh_rep = dolfinx.fem.Function(Vrep, dtype=dtype)\n",
    "uh_rep.interpolate_nonmatching(uh, *interp_data)\n",
    "uh_rep.name = \"uh\"\n",
    "\n",
    "Vrep_wb = dolfinx.fem.functionspace(rep_mesh_wb, (\"CG\", rep_degree))\n",
    "interp_data_wb = qugar.reparam.create_interpolation_data(Vrep_wb, V)\n",
    "uh_rep_wb = dolfinx.fem.Function(Vrep_wb, dtype=dtype)\n",
    "uh_rep_wb.interpolate_nonmatching(uh, *interp_data_wb)\n",
    "uh_rep_wb.name = \"uh\""
   ]
  },
  {
   "cell_type": "markdown",
   "id": "523a66ef",
   "metadata": {},
   "source": [
    "Together with the approximate solution `uh_rep`, we also\n",
    "interpolate the exact solution `uex_rep` into the reparameterization\n",
    "mesh."
   ]
  },
  {
   "cell_type": "code",
   "execution_count": null,
   "id": "8208621e",
   "metadata": {
    "lines_to_next_cell": 2
   },
   "outputs": [],
   "source": [
    "uex_rep = dolfinx.fem.Function(Vrep, dtype=dtype)\n",
    "uex_expression = dolfinx.fem.Expression(uex, Vrep.element.interpolation_points())\n",
    "uex_rep.interpolate(uex_expression)\n",
    "uex_rep.name = \"uex\""
   ]
  },
  {
   "cell_type": "markdown",
   "id": "fe64e201",
   "metadata": {},
   "source": [
    "Finally, we export the meshes to VTK files and visualize them\n",
    "using ParaView (see the figures below)."
   ]
  },
  {
   "cell_type": "code",
   "execution_count": null,
   "id": "d25d1bcf",
   "metadata": {},
   "outputs": [],
   "source": [
    "results_folder = Path(\"results\")\n",
    "results_folder.mkdir(exist_ok=True, parents=True)\n",
    "filename = results_folder / \"demo_poisson\"\n",
    "\n",
    "with dolfinx.io.VTKFile(rep_mesh.comm, filename.with_suffix(\".pvd\"), \"w\") as vtk:\n",
    "    vtk.write_function(uh_rep)\n",
    "    vtk.write_function(uh_rep_wb)\n",
    "    vtk.write_function(uex_rep)"
   ]
  },
  {
   "cell_type": "markdown",
   "id": "75d53100",
   "metadata": {},
   "source": [
    "| Approximate solution | Exact (manufactured) solution |\n",
    "|:---:|:---:|\n",
    "| ![Approximate solution](assets/demo_poisson_uh.png) | ![Exact solution](assets/demo_poisson_uex.png) |"
   ]
  }
 ],
 "metadata": {
  "jupytext": {
   "main_language": "python"
  }
 },
 "nbformat": 4,
 "nbformat_minor": 5
}
