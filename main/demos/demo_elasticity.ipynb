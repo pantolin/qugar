{
 "cells": [
  {
   "cell_type": "markdown",
   "id": "59a7bd5e",
   "metadata": {},
   "source": [
    "# Linear elasticity problem\n",
    "\n",
    "This demo is implemented in {download}`demo_elasticity.py`. It\n",
    "illustrates:\n",
    "\n",
    "- How to solve a linear elasticity problem using QUGaR and FEniCSx.\n",
    "- How to impose Dirichlet conditions on a vector field.\n",
    "- How to visualize vector solutions on an unfitted domain.\n",
    "\n",
    "## Problem definition\n",
    "\n",
    "Let us consider the domain $\\Omega \\subset \\mathbb{R}^3$,\n",
    "immersed in a mesh $\\mathcal{T}(\\Omega)$ (see\n",
    "[Divergence theorem demo](demo_div_thm.md) for further details\n",
    "about the immersed setting), and the vector finite element space $V$ defined\n",
    "over the mesh $\\mathcal{T}(\\Omega)$. The linear elasticity problem reads:\n",
    "Finding $\\mathbf{u} \\in V$ such that\n",
    "\n",
    "$$\n",
    "\\begin{align}\n",
    "  -\\nabla \\cdot \\sigma(\\mathbf{u}) &= \\mathbf{f} \\quad {\\rm in} \\ \\Omega, \\\\\n",
    "  \\mathbf{u} &= \\mathbf{u}_D \\quad {\\rm on} \\ \\Gamma_{D}, \\\\\n",
    "  \\sigma(\\mathbf{u}) \\cdot \\mathbf{n} &= \\mathbf{g} \\quad {\\rm on} \\ \\Gamma_{N}.\n",
    "\\end{align}\n",
    "$$\n",
    "\n",
    "where $\\mathbf{f}$ is a body force, $\\mathbf{g}$ is a traction force, and $\\mathbf{n}$ denotes the outward directed\n",
    "boundary normal. The stress tensor $\\sigma$ is related to the strain tensor $\\varepsilon$ by the constitutive relation:\n",
    "\n",
    "$$\n",
    "\\sigma(\\mathbf{u}) = 2\\mu\\varepsilon(\\mathbf{u}) + \\lambda\\text{tr}(\\varepsilon(\\mathbf{u}))I\n",
    "$$\n",
    "\n",
    "where $\\mu$ and $\\lambda$ are the Lamé parameters, $\\text{tr}$ is the trace operator, and $I$ is the identity tensor. The strain tensor is defined as:\n",
    "\n",
    "$$\n",
    "\\varepsilon(\\mathbf{u}) = \\frac{1}{2}(\\nabla\\mathbf{u} + \\nabla\\mathbf{u}^T)\n",
    "$$\n",
    "\n",
    "The variational problem reads: find $\\mathbf{u} \\in V_D$ such\n",
    "that\n",
    "\n",
    "$$\n",
    "a(\\mathbf{u}, \\mathbf{v}) = L(\\mathbf{v}) \\quad \\forall \\ \\mathbf{v} \\in V_0,\n",
    "$$\n",
    "\n",
    "where $V_D$ is the space of functions that satisfy the Dirichlet\n",
    "boundary conditions, $V_0$ is the space of test functions that\n",
    "vanish on the Dirichlet boundary $\\Gamma_D$, and $a(\\mathbf{u}, \\mathbf{v})$ and\n",
    "$L(\\mathbf{v})$ are the bilinear and linear forms defined as:\n",
    "\n",
    "$$\n",
    "\\begin{align}\n",
    "  a(\\mathbf{u}, \\mathbf{v}) &:= \\int_{\\Omega} \\sigma(\\mathbf{u}) : \\varepsilon(\\mathbf{v}) \\, {\\rm d} x, \\\\\n",
    "  L(\\mathbf{v})    &:= \\int_{\\Omega} \\mathbf{f} \\cdot \\mathbf{v} \\, {\\rm d} x + \\int_{\\Gamma_{N}} \\mathbf{g} \\cdot \\mathbf{v} \\, {\\rm d} s.\n",
    "\\end{align}\n",
    "$$\n",
    "\n",
    "In this demo we consider a domain $\\Omega$ that is a Schoen gyroid\n",
    "inside a cube $[0,1]^3$ (see figure below).\n",
    "For the boundary conditions, we fix the bottom face ($z=0$) and apply\n",
    "a compression on the top face ($z=1$).\n",
    "\n",
    "```{figure} assets/demo_elasticity_geom.png\n",
    ":name: fig-demo-elasticity-geom\n",
    "Schoen gyroid unfitted domain.\n",
    "```\n",
    "\n",
    "## Implementation\n",
    "\n",
    "### Modules import\n",
    "First we add the needed modules and functions:"
   ]
  },
  {
   "cell_type": "code",
   "execution_count": null,
   "id": "2db001ea",
   "metadata": {},
   "outputs": [],
   "source": [
    "from qugar.utils import has_FEniCSx, has_PETSc\n",
    "\n",
    "if not has_FEniCSx:\n",
    "    raise ValueError(\"FEniCSx installation not found is required.\")\n",
    "\n",
    "if not has_PETSc:\n",
    "    raise ValueError(\"petsc4py installation not found is required.\")\n",
    "\n",
    "from pathlib import Path\n",
    "\n",
    "from mpi4py import MPI\n",
    "\n",
    "import dolfinx.fem\n",
    "import dolfinx.fem.petsc\n",
    "import dolfinx.io\n",
    "import numpy as np\n",
    "import ufl\n",
    "from dolfinx import default_scalar_type as dtype\n",
    "\n",
    "import qugar\n",
    "import qugar.impl\n",
    "from qugar.dolfinx import LinearProblem\n",
    "from qugar.mesh import create_unfitted_impl_Cartesian_mesh\n"
   ]
  },
  {
   "cell_type": "markdown",
   "id": "08cdfb94",
   "metadata": {},
   "source": [
    "### Geometry and mesh"
   ]
  },
  {
   "cell_type": "markdown",
   "id": "5dd239da",
   "metadata": {},
   "source": [
    "We define the Schoen gyroid geometry using an implicit function."
   ]
  },
  {
   "cell_type": "code",
   "execution_count": null,
   "id": "94254552",
   "metadata": {},
   "outputs": [],
   "source": [
    "impl_func = qugar.impl.create_Schoen([1.0, 1.0, 1.0])"
   ]
  },
  {
   "cell_type": "markdown",
   "id": "a96a3b23",
   "metadata": {},
   "source": [
    "We create an {py:class}`unfitted Cartesian mesh<qugar.mesh.UnfittedCartMesh>`\n",
    "(corresponding to $\\mathcal{T}$) in which we embed the domain $\\Omega$.\n",
    "This is a Cartesian mesh corresponding to the domain $[0,1]^3$ and\n",
    "with `n_cells` cells per direction."
   ]
  },
  {
   "cell_type": "code",
   "execution_count": null,
   "id": "412c8f72",
   "metadata": {},
   "outputs": [],
   "source": [
    "n_cells = 8\n",
    "\n",
    "unf_mesh = create_unfitted_impl_Cartesian_mesh(\n",
    "    MPI.COMM_WORLD, impl_func, n_cells, exclude_empty_cells=True, dtype=dtype\n",
    ")\n",
    "\n",
    "dim = unf_mesh.topology.dim"
   ]
  },
  {
   "cell_type": "markdown",
   "id": "08aa5305",
   "metadata": {},
   "source": [
    "### Material parameters and spaces"
   ]
  },
  {
   "cell_type": "markdown",
   "id": "0f654ba7",
   "metadata": {},
   "source": [
    "We define the material parameters for our elasticity problem:"
   ]
  },
  {
   "cell_type": "code",
   "execution_count": null,
   "id": "697e1618",
   "metadata": {},
   "outputs": [],
   "source": [
    "# Young's modulus and Poisson's ratio\n",
    "E, nu = 1.0, 0.3\n",
    "\n",
    "# Lamé parameters\n",
    "mu = E / (2.0 * (1.0 + nu))\n",
    "lmbda = E * nu / ((1.0 + nu) * (1.0 - 2.0 * nu))"
   ]
  },
  {
   "cell_type": "markdown",
   "id": "90d45d79",
   "metadata": {},
   "source": [
    "and the finite element space $V$ over the unfitted mesh\n",
    "(corresponding to the mesh $\\mathcal{T}$) needed to define the test\n",
    "and trial functions $\\mathbf{u}$ and $\\mathbf{v}$.\n",
    "The finite element space is defined as a vector Lagrange space of the given\n",
    "`degree` (2 in this case)."
   ]
  },
  {
   "cell_type": "code",
   "execution_count": null,
   "id": "d5756843",
   "metadata": {},
   "outputs": [],
   "source": [
    "degree = 2\n",
    "V = dolfinx.fem.functionspace(unf_mesh, (\"Lagrange\", degree, (dim,)))\n",
    "u, v = ufl.TrialFunction(V), ufl.TestFunction(V)"
   ]
  },
  {
   "cell_type": "markdown",
   "id": "b58ec169",
   "metadata": {},
   "source": [
    "### Boundary conditions"
   ]
  },
  {
   "cell_type": "markdown",
   "id": "fc77b3c4",
   "metadata": {},
   "source": [
    "We define the Dirichlet boundary conditions:\n",
    "- Bottom face (z = 0) is fixed: u = (0, 0, 0)\n",
    "- Top face (z = 1) has a prescribed displacement: u = (0, 0, -0.1)"
   ]
  },
  {
   "cell_type": "code",
   "execution_count": null,
   "id": "9d7288b7",
   "metadata": {},
   "outputs": [],
   "source": [
    "# Bottom face (fixed)\n",
    "bottom_facets = dolfinx.mesh.locate_entities_boundary(\n",
    "    unf_mesh, dim=(dim - 1), marker=lambda x: np.isclose(x[2], 0.0)\n",
    ")\n",
    "bottom_dofs = dolfinx.fem.locate_dofs_topological(V=V, entity_dim=2, entities=bottom_facets)\n",
    "u_bottom = np.zeros(dim, dtype=dtype)\n",
    "bc_bottom = dolfinx.fem.dirichletbc(value=u_bottom, dofs=bottom_dofs, V=V)\n",
    "\n",
    "# Top face (compression)\n",
    "top_facets = dolfinx.mesh.locate_entities_boundary(\n",
    "    unf_mesh, dim=(dim - 1), marker=lambda x: np.isclose(x[2], 1.0)\n",
    ")\n",
    "top_dofs = dolfinx.fem.locate_dofs_topological(V=V, entity_dim=2, entities=top_facets)\n",
    "u_top = np.zeros(dim, dtype=dtype)\n",
    "u_top[-1] = -0.1  # Apply compression along the last direction\n",
    "bc_top = dolfinx.fem.dirichletbc(value=u_top, dofs=top_dofs, V=V)\n",
    "\n",
    "# List of boundary conditions\n",
    "bcs = [bc_bottom, bc_top]"
   ]
  },
  {
   "cell_type": "markdown",
   "id": "c57c1c68",
   "metadata": {},
   "source": [
    "### Strain, stress and variational formulation"
   ]
  },
  {
   "cell_type": "markdown",
   "id": "d6245721",
   "metadata": {
    "lines_to_next_cell": 2
   },
   "source": [
    "We define the strain and stress tensors:"
   ]
  },
  {
   "cell_type": "code",
   "execution_count": null,
   "id": "3784b158",
   "metadata": {},
   "outputs": [],
   "source": [
    "def epsilon(u):\n",
    "    return ufl.sym(ufl.grad(u))\n",
    "\n",
    "\n",
    "def sigma(u):\n",
    "    return 2.0 * mu * epsilon(u) + lmbda * ufl.tr(epsilon(u)) * ufl.Identity(len(u))"
   ]
  },
  {
   "cell_type": "markdown",
   "id": "fd6f98e8",
   "metadata": {},
   "source": [
    "With the strain and stress defined, we can now define the variational\n",
    "formulation of the elasticity problem. We set no external forces,\n",
    "so the linear form only includes contributions from the boundary conditions."
   ]
  },
  {
   "cell_type": "code",
   "execution_count": null,
   "id": "94aa9454",
   "metadata": {},
   "outputs": [],
   "source": [
    "# Body force (zero for this demo)\n",
    "f = dolfinx.fem.Constant(unf_mesh, (dtype(0.0),) * dim)\n",
    "\n",
    "# Quadrature degree\n",
    "# Bilinear and linear forms\n",
    "a = ufl.inner(sigma(u), epsilon(v)) * ufl.dx\n",
    "L = ufl.dot(f, v) * ufl.dx"
   ]
  },
  {
   "cell_type": "markdown",
   "id": "b0e59c7c",
   "metadata": {},
   "source": [
    "### Linear system solution"
   ]
  },
  {
   "cell_type": "markdown",
   "id": "8cc2b2d0",
   "metadata": {},
   "source": [
    "We solve the associated linear system\n",
    "$A\\mathbf{u} = \\mathbf{b}$, where $\\mathbf{u}$ is the\n",
    "solution of the problem. The solution is stored in a\n",
    "a finite element function `uh` defined over the same finite\n",
    "element space $V$ as the trial functions.\n",
    "\n",
    "We use a direct solver (since the problem size is small)\n",
    "with a Jacobi preconditioner to help with possible ill-conditioning\n",
    "from the unfitted domain."
   ]
  },
  {
   "cell_type": "code",
   "execution_count": null,
   "id": "c42255d9",
   "metadata": {},
   "outputs": [],
   "source": [
    "petsc_options = {\n",
    "    \"ksp_type\": \"preonly\",\n",
    "    \"pc_type\": \"cholesky\",\n",
    "    \"ksp_diagonal_scale\": True,  # Jacobi preconditioner\n",
    "}\n",
    "\n",
    "problem = LinearProblem(a, L, bcs=bcs, petsc_options=petsc_options)\n",
    "problem.solve()\n",
    "\n",
    "uh = problem.u"
   ]
  },
  {
   "cell_type": "markdown",
   "id": "477ee33b",
   "metadata": {},
   "source": [
    "### Result analysis"
   ]
  },
  {
   "cell_type": "markdown",
   "id": "4f8dbccf",
   "metadata": {},
   "source": [
    "We can compute the strain and stress fields from the solution.\n",
    "This helps in understanding the mechanical behavior of the structure."
   ]
  },
  {
   "cell_type": "markdown",
   "id": "5c1ae6f7",
   "metadata": {},
   "source": [
    "First we create function for strain and stress:"
   ]
  },
  {
   "cell_type": "code",
   "execution_count": null,
   "id": "69f648bb",
   "metadata": {},
   "outputs": [],
   "source": [
    "V_tensor = dolfinx.fem.functionspace(unf_mesh, (\"Lagrange\", degree, (dim, dim)))\n",
    "\n",
    "strain = dolfinx.fem.Function(V_tensor)\n",
    "stress = dolfinx.fem.Function(V_tensor)\n",
    "\n",
    "strain_expr = dolfinx.fem.Expression(epsilon(uh), V_tensor.element.interpolation_points())\n",
    "strain.interpolate(strain_expr)\n",
    "\n",
    "stress_expr = dolfinx.fem.Expression(sigma(uh), V_tensor.element.interpolation_points())\n",
    "stress.interpolate(stress_expr)"
   ]
  },
  {
   "cell_type": "markdown",
   "id": "c972e484",
   "metadata": {},
   "source": [
    "Then we can compute the [von Mises stress](https://en.wikipedia.org/wiki/Von_Mises_yield_criterion),\n",
    "which is a scalar measure of the intensity of the stress state.\n",
    "It is often used in engineering  applications to predict yielding of\n",
    "materials under complex loading conditions.\n",
    "The von Mises stress is defined as:"
   ]
  },
  {
   "cell_type": "code",
   "execution_count": null,
   "id": "590b6261",
   "metadata": {},
   "outputs": [],
   "source": [
    "V_scalar = dolfinx.fem.functionspace(unf_mesh, (\"Lagrange\", degree))\n",
    "von_mises = dolfinx.fem.Function(V_scalar)\n",
    "\n",
    "s = sigma(uh)\n",
    "s_dev = s - (1 / 3) * ufl.tr(s) * ufl.Identity(len(uh))\n",
    "von_mises_expr = dolfinx.fem.Expression(\n",
    "    ufl.sqrt((3 / 2) * ufl.inner(s_dev, s_dev)), V_scalar.element.interpolation_points()\n",
    ")\n",
    "von_mises.interpolate(von_mises_expr)"
   ]
  },
  {
   "cell_type": "markdown",
   "id": "a2508fd4",
   "metadata": {},
   "source": [
    "### Visualization"
   ]
  },
  {
   "cell_type": "markdown",
   "id": "afb02da7",
   "metadata": {},
   "source": [
    "Finally, we visualize the obtained displacement, strain, and stress by generating\n",
    "reparameterization meshes and interpolating the solutions."
   ]
  },
  {
   "cell_type": "code",
   "execution_count": null,
   "id": "47b4327d",
   "metadata": {},
   "outputs": [],
   "source": [
    "# Create reparameterization meshes\n",
    "rep_degree = 3\n",
    "reparam = qugar.reparam.create_reparam_mesh(unf_mesh, degree=rep_degree, levelset=False)\n",
    "rep_mesh = reparam.create_mesh()\n",
    "rep_mesh_wb = reparam.create_mesh(wirebasket=True)\n",
    "\n",
    "# Create function spaces on the reparameterized meshes\n",
    "Vrep_tensor = dolfinx.fem.functionspace(rep_mesh, (\"CG\", rep_degree, (dim, dim)))\n",
    "Vrep_vec = dolfinx.fem.functionspace(rep_mesh, (\"CG\", rep_degree, (dim,)))\n",
    "Vrep_scalar = dolfinx.fem.functionspace(rep_mesh, (\"CG\", rep_degree))\n",
    "Vrep_wb_vec = dolfinx.fem.functionspace(rep_mesh_wb, (\"CG\", rep_degree, (dim,)))\n",
    "\n",
    "# Interpolate displacement\n",
    "interp_data_vec = qugar.reparam.create_interpolation_data(Vrep_vec, V)\n",
    "uh_rep = dolfinx.fem.Function(Vrep_vec)\n",
    "uh_rep.interpolate_nonmatching(uh, *interp_data_vec)\n",
    "uh_rep.name = \"displacement\"\n",
    "\n",
    "# Interpolate stress and strain tensors\n",
    "interp_data_tensor = qugar.reparam.create_interpolation_data(Vrep_tensor, V_scalar)\n",
    "stress_rep = dolfinx.fem.Function(Vrep_tensor)\n",
    "stress_rep.interpolate_nonmatching(stress, *interp_data_tensor)\n",
    "stress_rep.name = \"stress\"\n",
    "\n",
    "strain_rep = dolfinx.fem.Function(Vrep_tensor)\n",
    "strain_rep.interpolate_nonmatching(strain, *interp_data_tensor)\n",
    "strain_rep.name = \"strain\"\n",
    "\n",
    "# Interpolate von Mises stress\n",
    "interp_data_scalar = qugar.reparam.create_interpolation_data(Vrep_scalar, V_scalar)\n",
    "von_mises_rep = dolfinx.fem.Function(Vrep_scalar)\n",
    "von_mises_rep.interpolate_nonmatching(von_mises, *interp_data_scalar)\n",
    "von_mises_rep.name = \"von_mises_stress\"\n",
    "\n",
    "# Interpolate solution to wirebasket mesh for better visualization\n",
    "interp_data_wb = qugar.reparam.create_interpolation_data(Vrep_wb_vec, V)\n",
    "uh_rep_wb = dolfinx.fem.Function(Vrep_wb_vec)\n",
    "uh_rep_wb.interpolate_nonmatching(uh, *interp_data_wb)\n",
    "uh_rep_wb.name = \"displacement_wirebasket\""
   ]
  },
  {
   "cell_type": "markdown",
   "id": "e84516d3",
   "metadata": {},
   "source": [
    "Finally, we export the meshes to VTK files and visualize them\n",
    "using ParaView. In ParaView, you can use the `Warp By Vector` filter\n",
    "with the displacement field to visualize the deformed structure."
   ]
  },
  {
   "cell_type": "code",
   "execution_count": null,
   "id": "0fc7558b",
   "metadata": {},
   "outputs": [],
   "source": [
    "results_folder = Path(\"results\")\n",
    "results_folder.mkdir(exist_ok=True, parents=True)\n",
    "filename = results_folder / \"demo_elasticity\"\n",
    "\n",
    "with dolfinx.io.VTKFile(rep_mesh.comm, filename.with_suffix(\".pvd\"), \"w\") as vtk:\n",
    "    vtk.write_function(uh_rep)\n",
    "    vtk.write_function(uh_rep_wb)\n",
    "    vtk.write_function(stress_rep)\n",
    "    vtk.write_function(strain_rep)\n",
    "    vtk.write_function(von_mises_rep)"
   ]
  },
  {
   "cell_type": "markdown",
   "id": "8f682aee",
   "metadata": {},
   "source": [
    "The results can be visualized in ParaView (see figure bloew).\n",
    "To visualize the deformed structure:\n",
    "1. Open the VTK file in ParaView\n",
    "2. Select the mesh with the displacement field\n",
    "3. Apply the `Warp By Vector` filter using the displacement field\n",
    "4. Adjust the scale factor if needed to make deformations more visible\n",
    "5. Color by von Mises stress to see stress concentrations\n",
    "\n",
    "Optionally, a ParaView state file `demo_elasticity.pvsm` is provided\n",
    "in the `demo/assests` folder."
   ]
  },
  {
   "cell_type": "markdown",
   "id": "a9cd497c",
   "metadata": {},
   "source": [
    "| von Mises stress distribution | Deformed configuration |\n",
    "|:---:|:---:|\n",
    "| ![Approximate solution](assets/demo_elasticity_vm.png) | ![Deformed configuration](assets/demo_elasticity_deformed.png) |"
   ]
  }
 ],
 "metadata": {
  "jupytext": {
   "main_language": "python"
  }
 },
 "nbformat": 4,
 "nbformat_minor": 5
}
