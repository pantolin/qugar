{
 "cells": [
  {
   "cell_type": "markdown",
   "id": "1df4df31",
   "metadata": {},
   "source": [
    "# PyVista visualization capabilities."
   ]
  },
  {
   "cell_type": "markdown",
   "id": "6dd018f4",
   "metadata": {},
   "source": [
    "\n",
    "This demo is implemented in {download}`demo_plot.py` and it\n",
    "illustrates:\n",
    "\n",
    "- How to create an unfitted implicit mesh using the library of available implicit functions.\n",
    "- The available PyVista based visualization tools."
   ]
  },
  {
   "cell_type": "markdown",
   "id": "b6b9e694",
   "metadata": {},
   "source": [
    "This demo requires the [FEniCSx](https://fenicsproject.org) and [PyVista](https://pyvista.org)\n",
    "capabilities of QUGaR."
   ]
  },
  {
   "cell_type": "markdown",
   "id": "0237fcd1",
   "metadata": {},
   "source": [
    "## Geometry definition\n",
    "\n",
    "First we check that FEniCSx and PyVista installations are available."
   ]
  },
  {
   "cell_type": "code",
   "execution_count": null,
   "id": "fad97255",
   "metadata": {},
   "outputs": [],
   "source": [
    "import qugar.utils\n",
    "\n",
    "if not qugar.utils.has_FEniCSx:\n",
    "    raise ValueError(\"FEniCSx installation not found is required.\")\n",
    "\n",
    "if not qugar.utils.has_PyVista:\n",
    "    raise ValueError(\"PyVista installation not found is required.\")"
   ]
  },
  {
   "cell_type": "markdown",
   "id": "4dd99753",
   "metadata": {},
   "source": [
    "Then the modules and functions to be used are imported:"
   ]
  },
  {
   "cell_type": "code",
   "execution_count": null,
   "id": "f5f3c5e4",
   "metadata": {},
   "outputs": [],
   "source": [
    "from typing import cast\n",
    "\n",
    "from mpi4py import MPI\n",
    "\n",
    "import numpy as np\n",
    "import pyvista as pv\n",
    "\n",
    "import qugar\n",
    "import qugar.impl\n",
    "import qugar.mesh\n",
    "import qugar.plot\n",
    "import qugar.reparam\n"
   ]
  },
  {
   "cell_type": "markdown",
   "id": "9304675a",
   "metadata": {},
   "source": [
    "## Domain definition"
   ]
  },
  {
   "cell_type": "markdown",
   "id": "13065327",
   "metadata": {},
   "source": [
    "We create an unfitted domain using a {py:class}`3D cylinder<qugar.impl.create_cylinder>`\n",
    "defined by a point on the axis, the direction of the revolution axis, and the radius."
   ]
  },
  {
   "cell_type": "code",
   "execution_count": null,
   "id": "e9bacecf",
   "metadata": {},
   "outputs": [],
   "source": [
    "func = qugar.impl.create_cylinder(\n",
    "    radius=0.4, origin=np.array([0.55, 0.45, 0.47]), axis=np.array([1.0, 0.9, -0.95]), use_bzr=True\n",
    ")"
   ]
  },
  {
   "cell_type": "markdown",
   "id": "cd08247e",
   "metadata": {},
   "source": [
    "and then generate the unfitted Cartesian mesh over a hypercube $[0,1]^3$\n",
    "with 5 cells per direction."
   ]
  },
  {
   "cell_type": "code",
   "execution_count": null,
   "id": "8b7699be",
   "metadata": {},
   "outputs": [],
   "source": [
    "dim = func.dim\n",
    "n_cells = [5] * dim\n",
    "\n",
    "comm = MPI.COMM_WORLD\n",
    "\n",
    "unf_mesh = qugar.mesh.create_unfitted_impl_Cartesian_mesh(\n",
    "    comm, func, n_cells, xmin=np.zeros(dim), xmax=np.ones(dim)\n",
    ")"
   ]
  },
  {
   "cell_type": "markdown",
   "id": "da43dade",
   "metadata": {},
   "source": [
    "## Visualization"
   ]
  },
  {
   "cell_type": "markdown",
   "id": "cba28fe3",
   "metadata": {},
   "source": [
    "We are going to visualize the quadrature for the unfitted domain, separating the\n",
    "quadrature for the cut cells, unfitted boundaries, and cut facets."
   ]
  },
  {
   "cell_type": "markdown",
   "id": "b5a23c36",
   "metadata": {},
   "source": [
    "First we create PyVista objects for the quadrature,"
   ]
  },
  {
   "cell_type": "code",
   "execution_count": null,
   "id": "0a977ffd",
   "metadata": {},
   "outputs": [],
   "source": [
    "quad = qugar.plot.quadrature_to_PyVista(unf_mesh, n_pts_dir=3)\n",
    "\n",
    "quad_cells = cast(pv.UnstructuredGrid, quad.get(\"Cut cells quadrature\"))\n",
    "quad_unf_bdry = cast(pv.UnstructuredGrid, quad.get(\"Unfitted boundary quadrature\"))\n",
    "quad_facets = cast(pv.UnstructuredGrid, quad.get(\"Cut/unfitted facets quadrature\"))"
   ]
  },
  {
   "cell_type": "markdown",
   "id": "6c085be9",
   "metadata": {},
   "source": [
    "cut and full cells and cut facets of the unfitted domain,"
   ]
  },
  {
   "cell_type": "code",
   "execution_count": null,
   "id": "4a9900ce",
   "metadata": {},
   "outputs": [],
   "source": [
    "cut_cells = qugar.plot.unfitted_domain_to_PyVista(unf_mesh, cut=True, full=False, empty=False)\n",
    "full_cells = qugar.plot.unfitted_domain_to_PyVista(unf_mesh, cut=False, full=True, empty=False)\n",
    "\n",
    "cut_facets = qugar.plot.unfitted_domain_facets_to_PyVista(\n",
    "    unf_mesh, cut=True, full=False, empty=False\n",
    ")"
   ]
  },
  {
   "cell_type": "markdown",
   "id": "12878049",
   "metadata": {},
   "source": [
    "and for the reparameterization of the domain's interior and its levelset boundary"
   ]
  },
  {
   "cell_type": "code",
   "execution_count": null,
   "id": "0f734b5b",
   "metadata": {},
   "outputs": [],
   "source": [
    "reparam = qugar.reparam.create_reparam_mesh(unf_mesh, degree=3, levelset=False)\n",
    "reparam_pv = qugar.plot.reparam_mesh_to_PyVista(reparam)\n",
    "\n",
    "reparam_srf = qugar.reparam.create_reparam_mesh(unf_mesh, degree=3, levelset=True)\n",
    "reparam_srf_pv = qugar.plot.reparam_mesh_to_PyVista(reparam_srf)"
   ]
  },
  {
   "cell_type": "markdown",
   "id": "b13b22f8",
   "metadata": {},
   "source": [
    "We are going to plot the different quadrature points and the reparameterization of the domain's\n",
    "in different subplots."
   ]
  },
  {
   "cell_type": "markdown",
   "id": "de3cf0a8",
   "metadata": {},
   "source": [
    "- First, we plot the reparameterization of the domain, splitting the interior and the\n",
    "wirebasket (the lines separating the reparameterization of each cell).\n",
    "We superimpose the cut and full cells."
   ]
  },
  {
   "cell_type": "code",
   "execution_count": null,
   "id": "8c80f07d",
   "metadata": {
    "lines_to_next_cell": 2
   },
   "outputs": [],
   "source": [
    "pl = pv.Plotter(shape=(2, 2))\n",
    "pl.subplot(0, 0)\n",
    "pl.add_title(\"Reparemeterization\", font_size=12)\n",
    "pl.add_mesh(reparam_pv.get(\"reparam\"), color=\"white\")\n",
    "pl.add_mesh(reparam_pv.get(\"wirebasket\"), color=\"red\", line_width=2)\n",
    "pl.add_mesh(cut_cells, color=\"blue\", style=\"wireframe\")\n",
    "pl.add_mesh(full_cells, color=\"blue\", style=\"wireframe\")"
   ]
  },
  {
   "cell_type": "markdown",
   "id": "64f4b251",
   "metadata": {},
   "source": [
    "- Second, we plot the quadrature of the cut cells, together with the\n",
    "cut and full cells, and a translucent reparameterization of the domain."
   ]
  },
  {
   "cell_type": "code",
   "execution_count": null,
   "id": "8772c330",
   "metadata": {},
   "outputs": [],
   "source": [
    "pl.subplot(0, 1)\n",
    "pl.add_title(\"Cut cells quadrature\", font_size=12)\n",
    "pl.add_mesh(reparam_pv, opacity=0.25, color=\"white\")\n",
    "pl.add_mesh(quad_cells, point_size=4, render_points_as_spheres=True)\n",
    "pl.add_mesh(cut_cells, color=\"blue\", style=\"wireframe\")"
   ]
  },
  {
   "cell_type": "markdown",
   "id": "878466c2",
   "metadata": {},
   "source": [
    "- Third, we plot the quadrature for the unfitted boundary as well\n",
    "as the normal vectors at those points, together with the\n",
    "cut cells, and a translucent reparameterization of the domains unfitted boundary."
   ]
  },
  {
   "cell_type": "code",
   "execution_count": null,
   "id": "0d64464b",
   "metadata": {},
   "outputs": [],
   "source": [
    "pl.subplot(1, 0)\n",
    "pl.add_title(\"Unfitted boundary quadrature\", font_size=12)\n",
    "pl.add_mesh(quad_unf_bdry, point_size=4, render_points_as_spheres=True)\n",
    "pl.add_mesh(cut_cells, color=\"blue\", style=\"wireframe\")\n",
    "glyphs = quad_unf_bdry.glyph(\n",
    "    orient=True, scale=False, factor=0.05, geom=pv.Arrow(), color_mode=\"scalar\"\n",
    ")\n",
    "pl.add_mesh(glyphs)\n",
    "pl.add_mesh(reparam_srf_pv.get(\"reparam\"), color=\"white\")\n",
    "pl.add_mesh(reparam_srf_pv.get(\"wirebasket\"), color=\"blue\", line_width=2)"
   ]
  },
  {
   "cell_type": "markdown",
   "id": "316f7c71",
   "metadata": {},
   "source": [
    "- Finally, we plot the quadrature for the cut facets together with the\n",
    "cut facets themselves."
   ]
  },
  {
   "cell_type": "code",
   "execution_count": null,
   "id": "767edb7a",
   "metadata": {},
   "outputs": [],
   "source": [
    "pl.subplot(1, 1)\n",
    "pl.add_title(\"Cut facets quadrature\", font_size=12)\n",
    "pl.add_mesh(quad_facets, point_size=4, render_points_as_spheres=True)\n",
    "pl.add_mesh(cut_facets, color=\"gray\", opacity=0.1)\n",
    "pl.add_mesh(cut_cells, color=\"blue\", style=\"wireframe\")\n",
    "pl.show()"
   ]
  }
 ],
 "metadata": {
  "jupytext": {
   "main_language": "python"
  }
 },
 "nbformat": 4,
 "nbformat_minor": 5
}
