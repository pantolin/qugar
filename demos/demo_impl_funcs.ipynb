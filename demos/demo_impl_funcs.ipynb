{
 "cells": [
  {
   "cell_type": "markdown",
   "id": "f6c74a4c",
   "metadata": {},
   "source": [
    "# Creation of unfitted implicit domains"
   ]
  },
  {
   "cell_type": "markdown",
   "id": "2674055b",
   "metadata": {},
   "source": [
    "\n",
    "This demo is implemented in {download}`demo_impl_funcs.py` and it\n",
    "illustrates:\n",
    "\n",
    "- The library of available implicit functions for defining domains.\n",
    "- How to create an unfitted mesh described by an implicit function.\n",
    "- How to visualize an unfitted domain in PyVista by creating a reparameterization."
   ]
  },
  {
   "cell_type": "markdown",
   "id": "87640a98",
   "metadata": {},
   "source": [
    "This demo requires the [FEniCSx](https://fenicsproject.org) and [PyVista](https://pyvista.org)\n",
    "capabilities of QUGaR."
   ]
  },
  {
   "cell_type": "markdown",
   "id": "9e522d58",
   "metadata": {},
   "source": [
    "## Geometry definition\n",
    "\n",
    "First we check that FEniCSx and PyVista installations are available."
   ]
  },
  {
   "cell_type": "code",
   "execution_count": null,
   "id": "c7e02e6c",
   "metadata": {},
   "outputs": [],
   "source": [
    "import qugar.utils\n",
    "\n",
    "if not qugar.utils.has_FEniCSx:\n",
    "    raise ValueError(\"FEniCSx installation not found is required.\")\n",
    "\n",
    "if not qugar.utils.has_PyVista:\n",
    "    raise ValueError(\"PyVista installation not found is required.\")"
   ]
  },
  {
   "cell_type": "markdown",
   "id": "f3948088",
   "metadata": {},
   "source": [
    "Then the modules and functions to be used are imported:"
   ]
  },
  {
   "cell_type": "code",
   "execution_count": null,
   "id": "2c6b389b",
   "metadata": {},
   "outputs": [],
   "source": [
    "\n",
    "from mpi4py import MPI\n",
    "\n",
    "import numpy as np\n",
    "import pyvista as pv\n",
    "\n",
    "import qugar\n",
    "import qugar.cpp\n",
    "import qugar.impl\n",
    "import qugar.mesh\n",
    "import qugar.plot\n",
    "import qugar.reparam\n"
   ]
  },
  {
   "cell_type": "markdown",
   "id": "bb1126fa",
   "metadata": {},
   "source": [
    "We have to choose a function for implicitly defining the domain\n",
    "among the ones available."
   ]
  },
  {
   "cell_type": "markdown",
   "id": "aa0443b8",
   "metadata": {},
   "source": [
    "### Primitives\n",
    "QUGaR provides a basic collection of 2D and 3D primitive geometries for defining\n",
    "implicit domains, namely:"
   ]
  },
  {
   "cell_type": "markdown",
   "id": "4ff81259",
   "metadata": {},
   "source": [
    "- A {py:class}`2D disk<qugar.impl.create_disk>` defined by its center and radius."
   ]
  },
  {
   "cell_type": "code",
   "execution_count": null,
   "id": "406d33a0",
   "metadata": {},
   "outputs": [],
   "source": [
    "func_disk = qugar.impl.create_disk(radius=0.8, center=np.array([0.51, 0.45]), use_bzr=True)"
   ]
  },
  {
   "cell_type": "markdown",
   "id": "50e5f02d",
   "metadata": {},
   "source": [
    "- A {py:class}`3D sphere<qugar.impl.create_sphere>` defined by its center and radius."
   ]
  },
  {
   "cell_type": "code",
   "execution_count": null,
   "id": "002cadff",
   "metadata": {},
   "outputs": [],
   "source": [
    "func_sphere = qugar.impl.create_sphere(radius=0.8, center=np.array([0.5, 0.45, 0.35]), use_bzr=True)"
   ]
  },
  {
   "cell_type": "markdown",
   "id": "84ca5394",
   "metadata": {},
   "source": [
    "- A {py:class}`2D half-space<qugar.impl.create_line>` defined as the domain\n",
    "on one side of an infinite line."
   ]
  },
  {
   "cell_type": "code",
   "execution_count": null,
   "id": "2ea45bfe",
   "metadata": {},
   "outputs": [],
   "source": [
    "func_line = qugar.impl.create_line(\n",
    "    origin=np.array([0.5, 0.5]), normal=np.array([1.0, 0.2]), use_bzr=True\n",
    ")"
   ]
  },
  {
   "cell_type": "markdown",
   "id": "37940757",
   "metadata": {},
   "source": [
    "- A {py:class}`3D half-space<qugar.impl.create_plane>` defined as the domain\n",
    "on one side of an infinite plane."
   ]
  },
  {
   "cell_type": "code",
   "execution_count": null,
   "id": "2fc37dee",
   "metadata": {},
   "outputs": [],
   "source": [
    "func_plane = qugar.impl.create_plane(\n",
    "    origin=np.array([0.3, 0.47, 0.27]), normal=np.array([1.0, 0.3, -1.0]), use_bzr=True\n",
    ")"
   ]
  },
  {
   "cell_type": "markdown",
   "id": "fdc9e5c7",
   "metadata": {},
   "source": [
    "- A {py:class}`3D cylinder<qugar.impl.create_cylinder>` defined by a point on the axis,\n",
    "the direction of the revolution axis, and the radius."
   ]
  },
  {
   "cell_type": "code",
   "execution_count": null,
   "id": "bb76ec23",
   "metadata": {
    "lines_to_next_cell": 2
   },
   "outputs": [],
   "source": [
    "func_cylinder = qugar.impl.create_cylinder(\n",
    "    radius=0.4, origin=np.array([0.55, 0.45, 0.47]), axis=np.array([1.0, 0.9, -0.95]), use_bzr=True\n",
    ")"
   ]
  },
  {
   "cell_type": "markdown",
   "id": "aabc985b",
   "metadata": {},
   "source": [
    "- A {py:class}`2D annulus<qugar.impl.create_annulus>` defined by its center and inner and outer\n",
    "radii."
   ]
  },
  {
   "cell_type": "code",
   "execution_count": null,
   "id": "cf785da2",
   "metadata": {},
   "outputs": [],
   "source": [
    "func_annulus = qugar.impl.create_annulus(\n",
    "    inner_radius=0.2, outer_radius=0.75, center=np.array([0.55, 0.47]), use_bzr=True\n",
    ")"
   ]
  },
  {
   "cell_type": "markdown",
   "id": "545d86b4",
   "metadata": {},
   "source": [
    "- A {py:class}`2D ellipse<qugar.impl.create_ellipse>` defined by a 2D reference system\n",
    "(described through an origin and $x$-axis) and the length of the semi-axes along the\n",
    "reference system directions."
   ]
  },
  {
   "cell_type": "code",
   "execution_count": null,
   "id": "92e58466",
   "metadata": {},
   "outputs": [],
   "source": [
    "ref_system = qugar.cpp.create_ref_system(origin=np.array([0.5, 0.5]), axis=np.array([1.0, 1.0]))\n",
    "func_ellipse = qugar.impl.create_ellipse(\n",
    "    semi_axes=np.array([0.7, 0.5]), ref_system=ref_system, use_bzr=True\n",
    ")"
   ]
  },
  {
   "cell_type": "markdown",
   "id": "4d3dfd58",
   "metadata": {},
   "source": [
    "- A {py:class}`3D ellipsoid<qugar.impl.create_ellipsoid>` defined by a 3D reference system\n",
    "(described through an origin and $x$- and $y$-axes) and the length of the semi-axes along the\n",
    "reference system directions."
   ]
  },
  {
   "cell_type": "code",
   "execution_count": null,
   "id": "9a169df7",
   "metadata": {},
   "outputs": [],
   "source": [
    "ref_system = qugar.cpp.create_ref_system(\n",
    "    origin=np.array([0.5, 0.5, 0.5]),\n",
    "    axis_x=np.array([1.0, 1.0, 1.0]),\n",
    "    axis_y=np.array([-1.0, 1.0, 1.0]),\n",
    ")\n",
    "func_ellipsoid = qugar.impl.create_ellipsoid(\n",
    "    semi_axes=np.array([0.7, 0.45, 0.52]), ref_system=ref_system, use_bzr=True\n",
    ")"
   ]
  },
  {
   "cell_type": "markdown",
   "id": "44677124",
   "metadata": {},
   "source": [
    "- A {py:class}`3D torus<qugar.impl.create_torus>` defined by its major and minor radii,\n",
    "its center, and the direction of the revolution axis for the major radius."
   ]
  },
  {
   "cell_type": "code",
   "execution_count": null,
   "id": "2b020344",
   "metadata": {},
   "outputs": [],
   "source": [
    "func_torus = qugar.impl.create_torus(\n",
    "    major_radius=0.77,\n",
    "    minor_radius=0.35,\n",
    "    center=np.array([0.55, 0.47, 0.51]),\n",
    "    axis=np.array([1.0, 0.9, 0.8]),\n",
    "    use_bzr=True,\n",
    ")"
   ]
  },
  {
   "cell_type": "markdown",
   "id": "27d8782e",
   "metadata": {},
   "source": [
    "- A 2D or 3D {py:class}`constant function<qugar.impl.create_constant>` defined by\n",
    "a constant value and a dimension."
   ]
  },
  {
   "cell_type": "code",
   "execution_count": null,
   "id": "ef32d700",
   "metadata": {},
   "outputs": [],
   "source": [
    "func_constant = qugar.impl.create_constant(value=-0.5, dim=3, use_bzr=True)"
   ]
  },
  {
   "cell_type": "markdown",
   "id": "95d01b0c",
   "metadata": {},
   "source": [
    "- A 2D or 3D {py:class}`dim-linear function<qugar.impl.create_dim_linear>` that defines\n",
    "a bi- or tri-linear function through its values in the 4 (respec. 8) vertices\n",
    "of the unit square (resp. cube)"
   ]
  },
  {
   "cell_type": "code",
   "execution_count": null,
   "id": "8be5f513",
   "metadata": {},
   "outputs": [],
   "source": [
    "func_dimlinear = qugar.impl.create_dim_linear(coefs=[-0.5, 0.5, 0.5, -0.7])"
   ]
  },
  {
   "cell_type": "markdown",
   "id": "88ecad05",
   "metadata": {
    "lines_to_next_cell": 2
   },
   "source": [
    "Internally, (almost all) these functions can be represented through (Bezier) polynomials\n",
    "or analytical $C^1(\\mathbb{R}^d)$ functions by propertly setting the argument `use_bzr`\n",
    "to `True` or `False`, respectively.\n",
    "This will setup the type of algorithm to be used in the generation of quadratures and\n",
    "reparameterizations.\n",
    "Check [Algoim library](https://algoim.github.io) for more details."
   ]
  },
  {
   "cell_type": "markdown",
   "id": "e52ea357",
   "metadata": {},
   "source": [
    "### Triply periodic minimal surface (TPMS)"
   ]
  },
  {
   "cell_type": "markdown",
   "id": "20b40530",
   "metadata": {},
   "source": [
    "QUGaR also defines a library of triply periodic minimal surfaces (TPMS) that can be used\n",
    "to generate more complex implicit domains. The available TPMSs are:\n",
    "- [Schoen gyroid](https://en.wikipedia.org/wiki/Gyroid), defined as:\n",
    "\n",
    "$$\n",
    "\\begin{align}\n",
    "  \\phi(x,y,z) = \\sin(\\alpha x) \\cos(\\beta y) + \\sin(\\beta y) \\cos(\\gamma z)\n",
    "+ \\sin(\\gamma z) \\cos(\\alpha x)\n",
    "\\end{align}\n",
    "$$"
   ]
  },
  {
   "cell_type": "code",
   "execution_count": null,
   "id": "b253db3f",
   "metadata": {},
   "outputs": [],
   "source": [
    "func_schoen = qugar.impl.create_Schoen(periods=[2, 2, 2])"
   ]
  },
  {
   "cell_type": "markdown",
   "id": "e529d0d9",
   "metadata": {},
   "source": [
    "- [Schoen F-RD](https://minimalsurfaces.blog/home/repository/triply-periodic/schoen-f-rd/),\n",
    "defined as:\n",
    "\n",
    "$$\n",
    "\\begin{align}\n",
    "  \\phi(x,y,z) &=   4 \\cos(\\alpha x) \\cos(\\beta y) \\cos(\\gamma z)\n",
    "        - \\cos(2\\alpha x) \\cos(2\\beta y)\\\\ &- \\cos(2\\beta y) \\cos(2\\gamma z)\n",
    "        - \\cos(\\gamma z) \\cos(2\\alpha x)\n",
    "\\end{align}\n",
    "$$"
   ]
  },
  {
   "cell_type": "code",
   "execution_count": null,
   "id": "785803a1",
   "metadata": {},
   "outputs": [],
   "source": [
    "func_schoeniwp = qugar.impl.create_Schoen_IWP(periods=[2, 2, 2])"
   ]
  },
  {
   "cell_type": "markdown",
   "id": "3792a654",
   "metadata": {},
   "source": [
    "- [Schoen I-WP](https://minimalsurfaces.blog/home/repository/triply-periodic/schoen-i-wp/),\n",
    "defined as:\n",
    "\n",
    "$$\n",
    "\\begin{align}\n",
    "  \\phi(x,y,z) &= 2 \\left(\\cos(\\alpha x) \\cos(\\beta y) + \\cos(\\beta y) \\cos(\\gamma z)\n",
    "             + \\cos(\\gamma z) \\cos(\\alpha x)\\right)\\\\\n",
    "             &- \\cos(2\\alpha  x) - \\cos(2\\beta  y) - \\cos(2\\gamma z))\n",
    "\\end{align}\n",
    "$$"
   ]
  },
  {
   "cell_type": "code",
   "execution_count": null,
   "id": "60d61d50",
   "metadata": {},
   "outputs": [],
   "source": [
    "func_schoenfrd = qugar.impl.create_Schoen_FRD(periods=[2, 2, 2])"
   ]
  },
  {
   "cell_type": "markdown",
   "id": "ee7803cd",
   "metadata": {},
   "source": [
    "- [Fischer-Koch S](http://kenbrakke.com/evolver/examples/periodic/periodic.html#fishers),\n",
    "defined as:\n",
    "\n",
    "$$\n",
    "\\begin{align}\n",
    "  \\phi(x,y,z) &= \\cos(2\\alpha x) \\sin(\\beta y) \\cos(\\gamma z)\n",
    "        + \\cos(\\alpha x) \\cos(2\\beta y) \\sin(\\gamma z)\\\\\n",
    "        &+ \\sin(\\alpha x) \\cos(\\beta y) \\cos(2\\gamma z)\n",
    "\\end{align}\n",
    "$$"
   ]
  },
  {
   "cell_type": "code",
   "execution_count": null,
   "id": "9e16c779",
   "metadata": {},
   "outputs": [],
   "source": [
    "func_fischerkochs = qugar.impl.create_Fischer_Koch_S(periods=[2, 2, 2])"
   ]
  },
  {
   "cell_type": "markdown",
   "id": "a3ecf205",
   "metadata": {},
   "source": [
    "- [Schwarz D (Diamond)](https://en.wikipedia.org/wiki/Schwarz_minimal_surface#Schwarz_D_(%22Diamond%22)),\n",
    "defined as:\n",
    "\n",
    "$$\n",
    "\\begin{align}\n",
    "  \\phi(x,y,z) = \\cos(\\alpha x) \\cos(\\beta y) \\cos(\\gamma z)\n",
    "- \\sin(\\alpha x) \\sin(\\beta y) \\sin(\\gamma z)\n",
    "\\end{align}\n",
    "$$"
   ]
  },
  {
   "cell_type": "code",
   "execution_count": null,
   "id": "71b825f7",
   "metadata": {},
   "outputs": [],
   "source": [
    "func_schwarzd = qugar.impl.create_Schwarz_Diamond(periods=[2, 2, 2])"
   ]
  },
  {
   "cell_type": "markdown",
   "id": "737985e9",
   "metadata": {},
   "source": [
    "- [Schwarz P (Primitive)](https://en.wikipedia.org/wiki/Schwarz_minimal_surface#Schwarz_P_(%22Primitive%22)),\n",
    "defined as:\n",
    "\n",
    "$$\n",
    "\\begin{align}\n",
    "  \\phi(x,y,z) = \\cos(\\alpha x) + \\cos(\\beta y) + \\cos(\\gamma z)\n",
    "\\end{align}\n",
    "$$"
   ]
  },
  {
   "cell_type": "code",
   "execution_count": null,
   "id": "4ecec002",
   "metadata": {},
   "outputs": [],
   "source": [
    "func_schwarzp = qugar.impl.create_Schwarz_Primitive(periods=[2, 2, 2])"
   ]
  },
  {
   "cell_type": "markdown",
   "id": "991bcd3c",
   "metadata": {},
   "source": [
    "\n",
    "where $\\alpha=2\\pi m$, $\\beta=2\\pi n$, and $\\gamma=2\\pi p$, and $m$, $n$, and $p$\n",
    "the periods along each parametric direction. Given one of the functions above\n",
    "$\\phi:\\mathbb{R}^3\\to\\mathbb{R}$, the implicit domain is defined as\n",
    "$\\Omega = \\{\\mathbf{x}\\in\\mathbb{R}^3\\,|\\,\\phi(\\mathbf{x})\\leq 0\\}$.\n",
    "\n",
    "2D versions can be generated by passing only 2 periods instead of 3.\n",
    "In that case, the mathematical expressionss above hold, but the coordinate $z$ is assumed to be\n",
    "$z=0$.\n",
    "\n",
    "Note that TPMSs can not be represented through Bezier polynomials."
   ]
  },
  {
   "cell_type": "markdown",
   "id": "c8310dce",
   "metadata": {},
   "source": [
    "### Other functions\n",
    "In addition to the primitives and TPMSs, QUGaR provides other implicit functions that\n",
    "operate as modifiers of already existing functions, as:\n",
    "- {py:class}`Function negative<qugar.impl.create_negative>`: changes the sign of a given function.\n",
    "- {py:class}`Functions addition<qugar.impl.create_functions_addition>`:\n",
    "adds two given functions.\n",
    "- {py:class}`Functions subtraction<qugar.impl.create_functions_subtraction>`:\n",
    "subtracts two given functions.\n",
    "- {py:class}`Affine transformation<qugar.impl.create_affinely_transformed_function>`:\n",
    "applies an affine transformation to a given function."
   ]
  },
  {
   "cell_type": "markdown",
   "id": "aee78807",
   "metadata": {},
   "source": [
    "### Future functions\n",
    "QUGaR is continuously updated with new functions and features. In the near/mid future,\n",
    "support will be provided for Bezier functions explicitly defined through its control points\n",
    "and for B-spline functions."
   ]
  },
  {
   "cell_type": "markdown",
   "id": "1a98aa73",
   "metadata": {},
   "source": [
    "## Generating the unfitted mesh"
   ]
  },
  {
   "cell_type": "markdown",
   "id": "f742586b",
   "metadata": {},
   "source": [
    "First we choose a function among the ones defined above."
   ]
  },
  {
   "cell_type": "code",
   "execution_count": null,
   "id": "a8685ad0",
   "metadata": {},
   "outputs": [],
   "source": [
    "func = func_schoen"
   ]
  },
  {
   "cell_type": "markdown",
   "id": "576eb842",
   "metadata": {},
   "source": [
    "and then generate the unfitted Cartesian mesh over a hypercube $[0,1]^d$\n",
    "with 8 cells per direction, where $d=2$ or $d=3$."
   ]
  },
  {
   "cell_type": "code",
   "execution_count": null,
   "id": "ac0d5674",
   "metadata": {},
   "outputs": [],
   "source": [
    "dim = func.dim\n",
    "n_cells = [8] * dim\n",
    "comm = MPI.COMM_WORLD"
   ]
  },
  {
   "cell_type": "code",
   "execution_count": null,
   "id": "a8401756",
   "metadata": {},
   "outputs": [],
   "source": [
    "unf_mesh = qugar.mesh.create_unfitted_impl_Cartesian_mesh(\n",
    "    comm, func, n_cells, xmin=np.zeros(dim), xmax=np.ones(dim)\n",
    ")"
   ]
  },
  {
   "cell_type": "markdown",
   "id": "ad34eb9c",
   "metadata": {},
   "source": [
    "## Visualization"
   ]
  },
  {
   "cell_type": "markdown",
   "id": "843a3902",
   "metadata": {},
   "source": [
    "Finally, we create a visualization of the unfitted mesh's interior a levelset\n",
    "through a parameterization."
   ]
  },
  {
   "cell_type": "code",
   "execution_count": null,
   "id": "c4af2fbf",
   "metadata": {},
   "outputs": [],
   "source": [
    "reparam = qugar.reparam.create_reparam_mesh(unf_mesh, degree=3, levelset=False)\n",
    "reparam_pv = qugar.plot.reparam_mesh_to_PyVista(reparam)\n",
    "\n",
    "reparam_srf = qugar.reparam.create_reparam_mesh(unf_mesh, degree=3, levelset=True)\n",
    "reparam_srf_pv = qugar.plot.reparam_mesh_to_PyVista(reparam_srf)\n",
    "\n",
    "pl = pv.Plotter(shape=(1, 2))\n",
    "pl.subplot(0, 0)\n",
    "pl.add_mesh(reparam_pv.get(\"reparam\"), color=\"white\")\n",
    "pl.add_mesh(reparam_pv.get(\"wirebasket\"), color=\"blue\", line_width=2)\n",
    "\n",
    "pl.subplot(0, 1)\n",
    "pl.add_mesh(reparam_srf_pv.get(\"reparam\"), color=\"white\")\n",
    "pl.add_mesh(reparam_srf_pv.get(\"wirebasket\"), color=\"blue\", line_width=2)\n",
    "\n",
    "pl.show()"
   ]
  }
 ],
 "metadata": {
  "jupytext": {
   "main_language": "python"
  }
 },
 "nbformat": 4,
 "nbformat_minor": 5
}
