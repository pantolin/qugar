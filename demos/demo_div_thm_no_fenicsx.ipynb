{
 "cells": [
  {
   "cell_type": "markdown",
   "id": "31a78ed5",
   "metadata": {},
   "source": [
    "# Divergence theorem (without FEniCSx)\n",
    "\n",
    "This demo is implemented in {download}`demo_div_thm_no_fenicsx.py` and\n",
    "solves the same problem as the [Divergence theorem demo](demo_div_thm.md)\n",
    "but without using [FEniCSx](https://fenicsproject.org) features.\n",
    "It uses only low-level interfaces to the C++ component of QUGaR.\n",
    "\n",
    "This demo covers:\n",
    "- How to create an unfitted domain described by an implicit function.\n",
    "- How to generate custom quadrature rules for cells, facets, and\n",
    "unfitted boundaries, and access the generated points, weights, and normals.\n",
    "\n",
    "all of them using only the C++ component of QUGaR.\n",
    "\n",
    "## Theorem and problem definition\n",
    "\n",
    "This demo follows closely the problem in [Divergence theorem demo](demo_div_thm.md):\n",
    "to compute and verify the volumetric and surface integrals of the divergence theorem\n",
    "for an immersed domain.\n",
    "So, be sure to first read the `Theorem and problem definition` section of that demo\n",
    "for a detailed explanation of the problem and the basic concepts of unfitted domains."
   ]
  },
  {
   "cell_type": "markdown",
   "id": "fdda3005",
   "metadata": {},
   "source": [
    "The problem setup is also the same as the one in the [Divergence theorem demo](demo_div_thm.md).\n",
    "Namely:\n",
    "- $\\Omega^\\ast = [0,1]^d$ (with $d=2,3$) (a square in 2D, a cube in 3D)\n",
    "- $\\mathcal{T}$ is created with $16\\times16$ quadrangles in 2D, and\n",
    "  and $16\\times16\\times16$ hexahedra in 3D.\n",
    "- $\\Omega=\\left\\lbrace x\\in\\Omega^\\ast: \\lVert x-x_0\\rVert < R\\right\\rbrace$ (a disk in 2D,\n",
    " a sphere in 3D), with\n",
    "   - $x_0 = (-0.25, 0.15)$ in 2D, and $x_0 = (0.25, 0.35, 0.45)$ in 3D\n",
    "   - $R=0.6$ in 2D, and $R=0.7$ in 3D\n",
    "- $\\mathbf{F} = \\left(\\sin(x),\\cos(y)\\right)$ in 2D, and\n",
    "  $\\mathbf{F} = \\left(\\sin(x),\\cos(y),\\sin(z)\\right)$ in 3D."
   ]
  },
  {
   "cell_type": "markdown",
   "id": "e4fbdc15",
   "metadata": {},
   "source": [
    "## Implementation\n",
    "\n",
    "First we import the needed modules and functions."
   ]
  },
  {
   "cell_type": "code",
   "execution_count": null,
   "id": "c3614a59",
   "metadata": {},
   "outputs": [],
   "source": [
    "from typing import Callable, Tuple, TypeAlias\n",
    "\n",
    "import numpy as np\n",
    "import numpy.typing as npt\n",
    "\n",
    "import qugar\n",
    "import qugar.cpp\n"
   ]
  },
  {
   "cell_type": "markdown",
   "id": "5d94853f",
   "metadata": {},
   "source": [
    "and declare some handy type aliases."
   ]
  },
  {
   "cell_type": "code",
   "execution_count": null,
   "id": "ab5e8a10",
   "metadata": {},
   "outputs": [],
   "source": [
    "ImplicitFunc: TypeAlias = qugar.cpp.ImplicitFunc_2D | qugar.cpp.ImplicitFunc_3D\n",
    "UnfittedDomain: TypeAlias = qugar.cpp.UnfittedImplDomain_2D | qugar.cpp.UnfittedImplDomain_3D\n",
    "ReparamMesh: TypeAlias = (\n",
    "    qugar.cpp.ReparamMesh_1_2\n",
    "    | qugar.cpp.ReparamMesh_2_2\n",
    "    | qugar.cpp.ReparamMesh_2_3\n",
    "    | qugar.cpp.ReparamMesh_3_3\n",
    ")\n",
    "Func = Callable[[npt.NDArray[np.floating]], npt.NDArray[np.floating]]\n",
    "DivFunc = Callable[[npt.NDArray[np.floating]], npt.NDArray[np.floating]]"
   ]
  },
  {
   "cell_type": "markdown",
   "id": "400cb0af",
   "metadata": {},
   "source": [
    "We define the floating point type to be used in the computations.\n",
    "Be aware that the C++ component of QUGaR exclusively uses 64 bits floating point types (doubles)."
   ]
  },
  {
   "cell_type": "code",
   "execution_count": null,
   "id": "2cb9cd47",
   "metadata": {},
   "outputs": [],
   "source": [
    "dtype = np.float64"
   ]
  },
  {
   "cell_type": "markdown",
   "id": "1e9cea40",
   "metadata": {},
   "source": [
    "We define the geometry to be considered: a disk in 2D and a sphere in 3D.\n",
    "Uncomment the one you want to use."
   ]
  },
  {
   "cell_type": "code",
   "execution_count": null,
   "id": "e08f7d1e",
   "metadata": {},
   "outputs": [],
   "source": [
    "# radius_2D = dtype(0.6)\n",
    "# center_2D = np.array([-0.25, 0.15], dtype=dtype)\n",
    "# impl_func = qugar.cpp.create_disk(center=center_2D, radius=radius_2D)\n",
    "# name = \"disk\"\n",
    "\n",
    "radius_3D = dtype(0.7)\n",
    "center_3D = np.array([0.25, 0.35, 0.45], dtype=dtype)\n",
    "impl_func = qugar.cpp.create_sphere(center=center_3D, radius=radius_3D)\n",
    "name = \"sphere\"\n",
    "\n",
    "print(f\"{name.capitalize()} - divergence theorem verification\")"
   ]
  },
  {
   "cell_type": "markdown",
   "id": "c675b7a6",
   "metadata": {},
   "source": [
    "and also the number of quadrature points per direction to be used in\n",
    "each integration."
   ]
  },
  {
   "cell_type": "code",
   "execution_count": null,
   "id": "38b89f97",
   "metadata": {},
   "outputs": [],
   "source": [
    "n_quad_pts = 5"
   ]
  },
  {
   "cell_type": "markdown",
   "id": "5b53d5bf",
   "metadata": {},
   "source": [
    "We create a Cartesian grid (corresponding to $\\mathcal{T}$) in which\n",
    "we will embed the domain $\\Omega$."
   ]
  },
  {
   "cell_type": "code",
   "execution_count": null,
   "id": "7986acbd",
   "metadata": {},
   "outputs": [],
   "source": [
    "dim = impl_func.dim\n",
    "n_cells = [16] * dim\n",
    "cell_breaks = [np.linspace(0.0, 1.0, n_cells[dir] + 1, dtype=dtype) for dir in range(dim)]\n",
    "\n",
    "grid = qugar.cpp.create_cart_grid(cell_breaks)"
   ]
  },
  {
   "cell_type": "markdown",
   "id": "76fd3d55",
   "metadata": {},
   "source": [
    "and then create an unfitted domain that stores the partition\n",
    "$\\mathcal{T}=\\mathcal{T}_{\\text{cut}}\\cup\\mathcal{T}_{\\text{full}}\\cup\\mathcal{T}_{\\text{empty}}$."
   ]
  },
  {
   "cell_type": "code",
   "execution_count": null,
   "id": "1500163a",
   "metadata": {},
   "outputs": [],
   "source": [
    "unf_domain = qugar.cpp.create_unfitted_impl_domain(impl_func, grid)"
   ]
  },
  {
   "cell_type": "markdown",
   "id": "1fd2e5d1",
   "metadata": {
    "lines_to_next_cell": 2
   },
   "source": [
    "We create functions for evaluating the vector function $\\mathbf{F}$ and $\\text{div}\\mathbf{F}$."
   ]
  },
  {
   "cell_type": "code",
   "execution_count": null,
   "id": "5e9206a8",
   "metadata": {
    "lines_to_end_of_cell_marker": 2,
    "lines_to_next_cell": 2
   },
   "outputs": [],
   "source": [
    "def F_func(x: npt.NDArray[dtype]) -> npt.NDArray[dtype]:\n",
    "    vals = np.empty_like(x)\n",
    "    for i in range(x.shape[1]):\n",
    "        vals[:, i] = np.sin(x[:, i]) if i % 2 == 0 else np.cos(x[:, i])\n",
    "    return vals\n",
    "\n",
    "\n",
    "def divF_func(x: npt.NDArray[dtype]) -> npt.NDArray[dtype]:\n",
    "    vals = np.zeros(x.shape[0], dtype=x.dtype)\n",
    "    for i in range(x.shape[1]):\n",
    "        vals += np.cos(x[:, i]) if i % 2 == 0 else -np.sin(x[:, i])\n",
    "    return vals"
   ]
  },
  {
   "cell_type": "markdown",
   "id": "89f5d6f5",
   "metadata": {},
   "source": [
    "### Auxiliar functions."
   ]
  },
  {
   "cell_type": "markdown",
   "id": "577650b8",
   "metadata": {
    "lines_to_next_cell": 2
   },
   "source": [
    "Before computing the integrals, we define some auxiliar functions to help us.\n",
    "Check their docstrings for more information."
   ]
  },
  {
   "cell_type": "code",
   "execution_count": null,
   "id": "2ead913d",
   "metadata": {
    "lines_to_end_of_cell_marker": 2,
    "lines_to_next_cell": 2
   },
   "outputs": [],
   "source": [
    "def scale_points_from_01(\n",
    "    domain: npt.NDArray[dtype], points: npt.NDArray[dtype]\n",
    ") -> npt.NDArray[dtype]:\n",
    "    \"\"\"\n",
    "    Scales points from the unit interval [0, 1] to a specified domain.\n",
    "\n",
    "    Args:\n",
    "        domain (npt.NDArray[dtype]): A 2D array where each row represents the\n",
    "            [min, max] range for each dimension.\n",
    "        points (npt.NDArray[dtype]): A 2D array of points to be scaled, where\n",
    "            each row is a point and each column corresponds to a dimension.\n",
    "\n",
    "    Returns:\n",
    "        npt.NDArray[dtype]: A 2D array of scaled points.\n",
    "    \"\"\"\n",
    "    dim = points.shape[1]\n",
    "    scaled_points = np.empty_like(points)\n",
    "    for dir in range(dim):\n",
    "        scaled_points[:, dir] = domain[dir, 0] + points[:, dir] * (domain[dir, 1] - domain[dir, 0])\n",
    "    return scaled_points"
   ]
  },
  {
   "cell_type": "code",
   "execution_count": null,
   "id": "2a95e4b5",
   "metadata": {
    "lines_to_end_of_cell_marker": 2,
    "lines_to_next_cell": 2
   },
   "outputs": [],
   "source": [
    "def find_facets_on_boundary(\n",
    "    unf_domain: UnfittedDomain,\n",
    "    cells: npt.NDArray[np.int32],\n",
    "    local_faces: npt.NDArray[np.int32],\n",
    "    local_face_id: int,\n",
    ") -> npt.NDArray[np.int32]:\n",
    "    \"\"\"\n",
    "    Among the given cells (and associated faces), finds (and returns) the cells whose\n",
    "    faces are equal to local_face_id.\n",
    "\n",
    "    Args:\n",
    "        unf_domain (UnfittedDomain): The unfitted implicit domain object containing the grid.\n",
    "        cells (npt.NDArray[np.int32]): Array of cell indices.\n",
    "        facets (npt.NDArray[np.int32]): Array of local face indices corresponding to the cells.\n",
    "        local_face_id (int): The ID of the local face to find among the cells.\n",
    "\n",
    "    Returns:\n",
    "        npt.NDArray[np.int32]: Array of cell indices that have have an associated\n",
    "        local face id equal to local_face_id.\n",
    "    \"\"\"\n",
    "    cells = cells[np.where(local_faces == local_face_id)]\n",
    "\n",
    "    grid = unf_domain.grid\n",
    "    bound_cells = grid.get_boundary_cells(local_face_id)\n",
    "    indices = np.where(np.isin(cells, bound_cells))[0]\n",
    "    return cells[indices]"
   ]
  },
  {
   "cell_type": "code",
   "execution_count": null,
   "id": "1d5d1310",
   "metadata": {
    "lines_to_end_of_cell_marker": 2,
    "lines_to_next_cell": 2
   },
   "outputs": [],
   "source": [
    "def find_full_facets_on_boundary(\n",
    "    unf_domain: UnfittedDomain, local_face_id: int\n",
    ") -> npt.NDArray[np.int32]:\n",
    "    \"\"\"\n",
    "    Find full facets on the boundary of an unfitted implicit domain that have the\n",
    "    given local facet_id.\n",
    "\n",
    "    This function retrieves the full facets from the given unfitted implicit domain\n",
    "    and identifies which of these facets are on the boundary based on the\n",
    "    provided local face ID.\n",
    "\n",
    "    Args:\n",
    "        unf_domain (UnfittedDomain): The unfitted implicit domain object containing\n",
    "            the grid data.\n",
    "        local_face_id (int): The local ID of the face to check for boundary status.\n",
    "\n",
    "    Returns:\n",
    "        npt.NDArray[np.int32]: An array of cell IDs associated to the facets.\n",
    "    \"\"\"\n",
    "    cells, facets = unf_domain.get_full_facets()\n",
    "    return find_facets_on_boundary(unf_domain, cells, facets, local_face_id)"
   ]
  },
  {
   "cell_type": "code",
   "execution_count": null,
   "id": "daede8de",
   "metadata": {
    "lines_to_end_of_cell_marker": 2,
    "lines_to_next_cell": 2
   },
   "outputs": [],
   "source": [
    "def find_cut_facets_on_boundary(\n",
    "    unf_domain: UnfittedDomain, local_face_id: int\n",
    ") -> npt.NDArray[np.int32]:\n",
    "    \"\"\"\n",
    "    Find cut facets on the boundary of an unfitted implicit domain that have the\n",
    "    given local local_face_id.\n",
    "\n",
    "    This function retrieves the cut facets from the given unfitted implicit domain\n",
    "    and identifies which of these facets are on the boundary based on the\n",
    "    provided local face ID.\n",
    "\n",
    "    Args:\n",
    "        unf_domain (UnfittedDomain): The unfitted implicit domain object containing\n",
    "            the grid data.\n",
    "        local_face_id (int): The local ID of the face to check for boundary status.\n",
    "\n",
    "    Returns:\n",
    "        npt.NDArray[np.int32]: An array of cell IDs associated to the facets.\n",
    "    \"\"\"\n",
    "    cells, facets = unf_domain.get_cut_facets()\n",
    "    return find_facets_on_boundary(unf_domain, cells, facets, local_face_id)"
   ]
  },
  {
   "cell_type": "code",
   "execution_count": null,
   "id": "bc68249f",
   "metadata": {
    "lines_to_end_of_cell_marker": 2,
    "lines_to_next_cell": 2
   },
   "outputs": [],
   "source": [
    "def create_facet_quadrature(\n",
    "    facet_points: npt.NDArray[dtype],\n",
    "    facet_weights: npt.NDArray[dtype],\n",
    "    local_face_id: int,\n",
    ") -> Tuple[npt.NDArray[dtype], npt.NDArray[dtype], npt.NDArray[dtype]]:\n",
    "    \"\"\"\n",
    "    Create quadrature points, weights, and normals for a given local face id.\n",
    "\n",
    "    Extends the points from the facet to the higher-dimensional space by adding\n",
    "    the constant coordinate of the face.\n",
    "    It also generated the (constant) normal vectors for the quadrature points.\n",
    "\n",
    "    Note:\n",
    "        The weights are not modified.\n",
    "\n",
    "    Args:\n",
    "        facet_points (npt.NDArray[dtype]): Array of points on the facet.\n",
    "        facet_weights (npt.NDArray[dtype]): Array of weights for the quadrature points.\n",
    "        local_face_id (int): Identifier for the facet, used to determine\n",
    "            the constant direction and side.\n",
    "\n",
    "    Returns:\n",
    "        Tuple[npt.NDArray[dtype], npt.NDArray[dtype], npt.NDArray[dtype]]:\n",
    "            - points: Array of quadrature points in the higher-dimensional space.\n",
    "            - facet_weights: Array of weights for the quadrature points.\n",
    "            - normals: Array of normal vectors for the quadrature points.\n",
    "    \"\"\"\n",
    "    facet_dim = facet_points.shape[1]\n",
    "    dim = facet_dim + 1\n",
    "    dtype = facet_points.dtype\n",
    "\n",
    "    const_dir = local_face_id // 2\n",
    "    side = local_face_id % 2\n",
    "\n",
    "    points = np.zeros((facet_points.shape[0], dim), dtype=dtype)\n",
    "\n",
    "    points[:, const_dir] = dtype.type(side)\n",
    "    local_dir = 0\n",
    "    for dir in range(dim):\n",
    "        if dir != const_dir:\n",
    "            points[:, dir] = facet_points[:, local_dir]\n",
    "            local_dir += 1\n",
    "\n",
    "    normals = np.zeros_like(points)\n",
    "    normals[:, const_dir] = dtype.type(1.0) if side == 1 else dtype.type(-1.0)\n",
    "\n",
    "    return points, facet_weights, normals"
   ]
  },
  {
   "cell_type": "code",
   "execution_count": null,
   "id": "bbec97af",
   "metadata": {
    "lines_to_end_of_cell_marker": 2,
    "lines_to_next_cell": 2
   },
   "outputs": [],
   "source": [
    "def create_full_facet_quadrature(\n",
    "    dim: int, local_face_id: int, n_quad_pts: int\n",
    ") -> Tuple[npt.NDArray[dtype], npt.NDArray[dtype], npt.NDArray[dtype]]:\n",
    "    \"\"\"\n",
    "    Create a full facet quadrature for a given dimension and local face.\n",
    "\n",
    "    Args:\n",
    "        dim (int): The dimension of the space.\n",
    "        local_face_id (int): The identifier of the local face.\n",
    "        n_quad_pts (int): The number of quadrature points per direction.\n",
    "\n",
    "    Returns:\n",
    "        Tuple[npt.NDArray[dtype], npt.NDArray[dtype], npt.NDArray[dtype]]:\n",
    "            - points: Array of quadrature points in the higher-dimensional space.\n",
    "            - facet_weights: Array of weights for the quadrature points.\n",
    "            - normals: Array of normal vectors for the quadrature points.\n",
    "    \"\"\"\n",
    "    quad = qugar.cpp.create_Gauss_quad_01([n_quad_pts] * (dim - 1))\n",
    "    return create_facet_quadrature(quad.points, quad.weights, local_face_id)"
   ]
  },
  {
   "cell_type": "markdown",
   "id": "62bc836f",
   "metadata": {},
   "source": [
    "### Computing the volumetric integral"
   ]
  },
  {
   "cell_type": "markdown",
   "id": "5baafce1",
   "metadata": {},
   "source": [
    "We compute now the volumetric integral for the cut and full cells."
   ]
  },
  {
   "cell_type": "markdown",
   "id": "6eda4a10",
   "metadata": {},
   "source": [
    "So, first, we create a custom quadrature for the cut cells."
   ]
  },
  {
   "cell_type": "code",
   "execution_count": null,
   "id": "74992fa1",
   "metadata": {},
   "outputs": [],
   "source": [
    "cut_cells_quad = qugar.cpp.create_quadrature(unf_domain, unf_domain.get_cut_cells(), n_quad_pts)"
   ]
  },
  {
   "cell_type": "markdown",
   "id": "7aefed79",
   "metadata": {},
   "source": [
    "and for the full cells we use the standard quadrature rule."
   ]
  },
  {
   "cell_type": "code",
   "execution_count": null,
   "id": "3b2855e5",
   "metadata": {
    "lines_to_next_cell": 2
   },
   "outputs": [],
   "source": [
    "quad_01 = qugar.cpp.create_Gauss_quad_01([n_quad_pts] * dim)"
   ]
  },
  {
   "cell_type": "markdown",
   "id": "ea889714",
   "metadata": {
    "lines_to_next_cell": 2
   },
   "source": [
    "We define a function for computing the contribution of a single\n",
    "cell, either cut or full."
   ]
  },
  {
   "cell_type": "code",
   "execution_count": null,
   "id": "c8b5d3f1",
   "metadata": {},
   "outputs": [],
   "source": [
    "def compute_cell_integr(points_01, weights_01, cell_id):\n",
    "    domain = grid.get_cell_domain(cell_id)\n",
    "    weights = weights_01 * domain.volume\n",
    "    vals = divF_func(scale_points_from_01(domain.as_array(), points_01))\n",
    "    return np.dot(vals, weights)"
   ]
  },
  {
   "cell_type": "markdown",
   "id": "c1d116ca",
   "metadata": {},
   "source": [
    "Loop over the full cells and compute their contributions"
   ]
  },
  {
   "cell_type": "code",
   "execution_count": null,
   "id": "7265805f",
   "metadata": {},
   "outputs": [],
   "source": [
    "vol_intgr = dtype(0.0)\n",
    "for cell_id in unf_domain.get_full_cells():\n",
    "    vol_intgr += compute_cell_integr(quad_01.points, quad_01.weights, cell_id)"
   ]
  },
  {
   "cell_type": "markdown",
   "id": "4fea244c",
   "metadata": {},
   "source": [
    "and the same for the cut cells (retrieving the associated custom quadrature points\n",
    "and weights for every cell)"
   ]
  },
  {
   "cell_type": "code",
   "execution_count": null,
   "id": "b404d6ad",
   "metadata": {
    "lines_to_next_cell": 2
   },
   "outputs": [],
   "source": [
    "pt_id = 0\n",
    "for cell_id, n_pts in zip(cut_cells_quad.cells, cut_cells_quad.n_pts_per_entity):\n",
    "    pt_id_1 = pt_id + n_pts\n",
    "\n",
    "    weights = cut_cells_quad.weights[pt_id:pt_id_1]\n",
    "    points = cut_cells_quad.points[pt_id:pt_id_1]\n",
    "    vol_intgr += compute_cell_integr(points, weights, cell_id)\n",
    "\n",
    "    pt_id = pt_id_1"
   ]
  },
  {
   "cell_type": "markdown",
   "id": "d5315b3d",
   "metadata": {},
   "source": [
    "### Computing the surface integral"
   ]
  },
  {
   "cell_type": "markdown",
   "id": "1e030a51",
   "metadata": {},
   "source": [
    "We compute now the surface integral for the unfitted boundaries (for $\\Gamma_{\\text{unf}}$)\n",
    "and the cut (for $\\mathcal{F}_{\\text{cut}}$) and full facets (for $\\mathcal{F}_{\\text{full}}$)."
   ]
  },
  {
   "cell_type": "markdown",
   "id": "0b10a16c",
   "metadata": {
    "lines_to_next_cell": 2
   },
   "source": [
    "We define a function for computing the contribution of a single\n",
    "cell (containing an unfitted boundary) or (cut or full) facet."
   ]
  },
  {
   "cell_type": "code",
   "execution_count": null,
   "id": "310d83f2",
   "metadata": {},
   "outputs": [],
   "source": [
    "def compute_srf_integral(points_01, weights_01, normals, cell_id):\n",
    "    cell_domain = grid.get_cell_domain(cell_id)\n",
    "    vals = F_func(scale_points_from_01(cell_domain.as_array(), points_01))\n",
    "\n",
    "    mapped_normals = np.empty_like(normals)\n",
    "    for dir in range(dim):\n",
    "        mapped_normals[:, dir] = normals[:, dir] / cell_domain.length(dir)\n",
    "    scaled_weights = weights_01 * cell_domain.volume * np.linalg.norm(mapped_normals, axis=1)\n",
    "\n",
    "    return np.dot(np.sum(vals * normals, axis=1), scaled_weights)"
   ]
  },
  {
   "cell_type": "markdown",
   "id": "637a4e8f",
   "metadata": {},
   "source": []
  },
  {
   "cell_type": "markdown",
   "id": "9607dca9",
   "metadata": {},
   "source": [
    "We first compute the contribution of the external facets (i.e., $\\Gamma_{\\text{ext}}$).\n",
    "For that purpose we iterate along the `dim * 2` faces of the\n",
    "hypercube $\\Omega^\\ast$ and compute first the contribution of $\\mathcal{F}_{\\text{full}}$"
   ]
  },
  {
   "cell_type": "code",
   "execution_count": null,
   "id": "5903cdaa",
   "metadata": {},
   "outputs": [],
   "source": [
    "srf_intgr = dtype(0.0)\n",
    "\n",
    "for face_id in range(dim * 2):\n",
    "    full_facets = find_full_facets_on_boundary(unf_domain, face_id)\n",
    "    points, weights, normals = create_full_facet_quadrature(dim, face_id, n_quad_pts)\n",
    "\n",
    "    for cell_id in full_facets:\n",
    "        srf_intgr += compute_srf_integral(points, weights, normals, cell_id)"
   ]
  },
  {
   "cell_type": "markdown",
   "id": "376cf41d",
   "metadata": {},
   "source": [
    "and then for $\\mathcal{F}_{\\text{cut}}$ (that requires a custom quadrature)."
   ]
  },
  {
   "cell_type": "code",
   "execution_count": null,
   "id": "90dd6814",
   "metadata": {},
   "outputs": [],
   "source": [
    "for face_id in range(dim * 2):\n",
    "    cells = find_cut_facets_on_boundary(unf_domain, face_id)\n",
    "    facets = np.full_like(cells, face_id)\n",
    "    facet_quad = qugar.cpp.create_facets_quadrature_exterior_integral(\n",
    "        unf_domain, cells, facets, n_quad_pts\n",
    "    )\n",
    "\n",
    "    pt_id = 0\n",
    "    for cell_id, n_pts in zip(facet_quad.cells, facet_quad.n_pts_per_entity):\n",
    "        pt_id_1 = pt_id + n_pts\n",
    "\n",
    "        facet_points = facet_quad.points[pt_id:pt_id_1]\n",
    "        facet_weights = facet_quad.weights[pt_id:pt_id_1]\n",
    "        points, weights, normals = create_facet_quadrature(facet_points, facet_weights, face_id)\n",
    "        srf_intgr += compute_srf_integral(points, weights, normals, cell_id)\n",
    "\n",
    "        pt_id = pt_id_1"
   ]
  },
  {
   "cell_type": "markdown",
   "id": "af887275",
   "metadata": {},
   "source": [
    "Finally, we compute the contribution of the unfitted boundaries (for $\\Gamma_{\\text{unf}}$)."
   ]
  },
  {
   "cell_type": "markdown",
   "id": "fb96b1eb",
   "metadata": {},
   "source": [
    "We compute the needed custom quadrature."
   ]
  },
  {
   "cell_type": "code",
   "execution_count": null,
   "id": "6835c8d9",
   "metadata": {},
   "outputs": [],
   "source": [
    "include_facet_unf_bry = True\n",
    "exclude_ext_bdry = True\n",
    "unf_bdry_quad = qugar.cpp.create_unfitted_bound_quadrature(\n",
    "    unf_domain,\n",
    "    unf_domain.get_cut_cells(),\n",
    "    n_quad_pts,\n",
    "    include_facet_unf_bry,\n",
    "    exclude_ext_bdry,\n",
    ")"
   ]
  },
  {
   "cell_type": "markdown",
   "id": "0969b09a",
   "metadata": {},
   "source": [
    "and then iterate along the cells that contain unfitted boundaries\n",
    "(retrieving the associated custom quadrature points, weights, and\n",
    "normals for every cell)."
   ]
  },
  {
   "cell_type": "code",
   "execution_count": null,
   "id": "45a1774a",
   "metadata": {},
   "outputs": [],
   "source": [
    "pt_id = 0\n",
    "for cell_id, n_pts in zip(unf_bdry_quad.cells, unf_bdry_quad.n_pts_per_entity):\n",
    "    pt_id_1 = pt_id + n_pts\n",
    "\n",
    "    weights = unf_bdry_quad.weights[pt_id:pt_id_1]\n",
    "    normals = unf_bdry_quad.normals[pt_id:pt_id_1]\n",
    "    points = unf_bdry_quad.points[pt_id:pt_id_1]\n",
    "    srf_intgr += compute_srf_integral(points, weights, normals, cell_id)\n",
    "\n",
    "    pt_id = pt_id_1"
   ]
  },
  {
   "cell_type": "markdown",
   "id": "b8552009",
   "metadata": {},
   "source": [
    "Finally, we compare both integrals"
   ]
  },
  {
   "cell_type": "code",
   "execution_count": null,
   "id": "41351a63",
   "metadata": {},
   "outputs": [],
   "source": [
    "print(f\"  - Volumetric integral: {vol_intgr}\")\n",
    "print(f\"  - Surface integral: {srf_intgr}\")"
   ]
  }
 ],
 "metadata": {
  "jupytext": {
   "main_language": "python"
  }
 },
 "nbformat": 4,
 "nbformat_minor": 5
}
