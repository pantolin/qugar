{
 "cells": [
  {
   "cell_type": "markdown",
   "id": "5153afbd",
   "metadata": {},
   "source": [
    "# $L^2$ projection\n",
    "\n",
    "This demo is implemented in {download}`demo_L2_projection.py`. It\n",
    "illustrates:\n",
    "\n",
    "- How to perform a $L^2$ projection using QUGaR and FEniCSx.\n",
    "- How to export the generated result to VTK files.\n",
    "\n",
    "## Problem definition\n",
    "\n",
    "Let us consider the domain $\\Omega \\subset \\mathbb{R}^n$,\n",
    "immersed in a mesh $\\mathcal{T}(\\Omega)$ (see\n",
    "[Divergence theorem demo](demo_div_thm.md) first for further details\n",
    "about the immersed setting), and the function\n",
    "$f:\\Omega\\to\\mathbb{R}$ defined as $f(x,y,z) = \\sin(x)\\cos(y)\\sin(z)$.\n",
    "Let us also consider a finite element space $V$ defined over the mesh\n",
    "$\\mathcal{T}(\\Omega)$, then, computing the $L^2$ projection\n",
    "of $f$ onto $V$ is equivalent to solving the following variational\n",
    "problem:\n",
    "$\n",
    "\\begin{align}\n",
    "  \\text{Find } u\\in V \\text{ such that } \\forall v\\in V:\n",
    "  \\int_{\\Omega} u v \\text{d} x = \\int_{\\Omega} f v \\text{d} x\n",
    "\\end{align}\n",
    "$\n",
    "\n",
    "## Implementation\n",
    "\n",
    "### Modules import\n",
    "First we add the needed modules and functions:"
   ]
  },
  {
   "cell_type": "code",
   "execution_count": null,
   "id": "0bf3d9ea",
   "metadata": {
    "lines_to_next_cell": 2
   },
   "outputs": [],
   "source": [
    "\n",
    "from qugar.utils import has_FEniCSx, has_PETSc\n",
    "\n",
    "if not has_FEniCSx:\n",
    "    raise ValueError(\"FEniCSx installation not found is required.\")\n",
    "\n",
    "if not has_PETSc:\n",
    "    raise ValueError(\"petsc4py installation not found is required.\")\n",
    "\n",
    "from pathlib import Path\n",
    "\n",
    "from mpi4py import MPI\n",
    "\n",
    "import dolfinx.fem\n",
    "import dolfinx.fem.petsc\n",
    "import dolfinx.io\n",
    "import numpy as np\n",
    "import ufl\n",
    "from dolfinx import default_real_type as dtype\n",
    "\n",
    "import qugar\n",
    "import qugar.impl\n",
    "from qugar.dolfinx import LinearProblem, form_custom\n",
    "from qugar.mesh import create_unfitted_impl_Cartesian_mesh\n"
   ]
  },
  {
   "cell_type": "markdown",
   "id": "07028d6e",
   "metadata": {},
   "source": [
    "### Geometry and mesh"
   ]
  },
  {
   "cell_type": "markdown",
   "id": "bd60005c",
   "metadata": {},
   "source": [
    "We define the geometry to be considered: in this case a\n",
    "{py:class}`Schoen gyroid<qugar.impl.create_Schoen>` in 3D defined\n",
    "through an implicit function.\n",
    "The domain can be easily changed by just choosing a different implicit\n",
    "function among the available ones (see\n",
    "[Implicit functions demo](demo_impl_funcs.md) for some examples)."
   ]
  },
  {
   "cell_type": "code",
   "execution_count": null,
   "id": "c6727d16",
   "metadata": {},
   "outputs": [],
   "source": [
    "impl_func = qugar.impl.create_Schoen([1.0, 1.0, 1.0])"
   ]
  },
  {
   "cell_type": "markdown",
   "id": "da4c5c59",
   "metadata": {},
   "source": [
    "We create an {py:class}`unfitted Cartesian mesh<qugar.mesh.UnfittedCartMesh>`\n",
    "(corresponding to $\\mathcal{T}$) in which we embed the domain $\\Omega$.\n",
    "This is a Cartesian mesh corresponding to the domain $[0,1]^3$ and\n",
    "with `n_cells` cells per direction."
   ]
  },
  {
   "cell_type": "code",
   "execution_count": null,
   "id": "9ac35464",
   "metadata": {},
   "outputs": [],
   "source": [
    "n_cells = 8\n",
    "\n",
    "unf_mesh = create_unfitted_impl_Cartesian_mesh(\n",
    "    MPI.COMM_WORLD, impl_func, n_cells, exclude_empty_cells=True, dtype=dtype\n",
    ")\n"
   ]
  },
  {
   "cell_type": "markdown",
   "id": "2f6f9536",
   "metadata": {},
   "source": [
    "The option `exclude_empty_cells` (set to `True`) prevents the\n",
    "generation of empty cells in the mesh (those denoted as\n",
    "$\\mathcal{T}_{\\text{empty}}$ in [Divergence theorem demo](demo_div_thm.md)).\n",
    "This is useful to eliminate inactive degrees of freedom in the\n",
    "problem."
   ]
  },
  {
   "cell_type": "markdown",
   "id": "adf6dbc6",
   "metadata": {},
   "source": [
    "### Spaces and functions"
   ]
  },
  {
   "cell_type": "markdown",
   "id": "d0b6206f",
   "metadata": {},
   "source": [
    "We create the function $\\mathbf{f}$."
   ]
  },
  {
   "cell_type": "code",
   "execution_count": null,
   "id": "9dbd4a59",
   "metadata": {},
   "outputs": [],
   "source": [
    "x = ufl.SpatialCoordinate(unf_mesh)\n",
    "f = ufl.sin(x[0]) * ufl.cos(x[1]) * ufl.sin(x[2])"
   ]
  },
  {
   "cell_type": "markdown",
   "id": "75bf53bc",
   "metadata": {},
   "source": [
    "and the finite element space $V$ over the unfitted mesh\n",
    "(corresponding to the mesh $\\mathcal{T}$) needed to define the test\n",
    "and trial functions $u$ and $v$.\n",
    "The finite element space is defined as a Lagrange space of the given\n",
    "`degree` (2 in this case)."
   ]
  },
  {
   "cell_type": "code",
   "execution_count": null,
   "id": "6e3e1273",
   "metadata": {},
   "outputs": [],
   "source": [
    "degree = 2\n",
    "V = dolfinx.fem.functionspace(unf_mesh, (\"Lagrange\", degree))\n",
    "u, v = ufl.TrialFunction(V), ufl.TestFunction(V)"
   ]
  },
  {
   "cell_type": "markdown",
   "id": "961b8d79",
   "metadata": {},
   "source": [
    "### Linear forms"
   ]
  },
  {
   "cell_type": "markdown",
   "id": "73fdc90b",
   "metadata": {},
   "source": [
    "We define the variational problem to be solved, which is\n",
    "equivalent to the $L^2$ projection of $f$ onto $V$, and generate\n",
    "the corresponding bilinear and linear forms `a` and `L` using\n",
    "QUGaR's custom form functions.\n",
    "The number of quadrature points per cell (or integration cell\n",
    "in the case of cut cells) is set to `degree + 1` to\n",
    "prevent DOLFINx from using a higher-order quadrature rule\n",
    "(because of the trigonometric right-hand side expression)."
   ]
  },
  {
   "cell_type": "code",
   "execution_count": null,
   "id": "8c405eeb",
   "metadata": {},
   "outputs": [],
   "source": [
    "n_quad_pts = degree + 1\n",
    "quad_degree = 2 * n_quad_pts + 1\n",
    "F = (u - f) * v * ufl.dx(degree=quad_degree)"
   ]
  },
  {
   "cell_type": "markdown",
   "id": "50f9bb9d",
   "metadata": {},
   "source": [
    "### Linear system solution"
   ]
  },
  {
   "cell_type": "markdown",
   "id": "5f104a63",
   "metadata": {},
   "source": [
    "We solve the associated linear system\n",
    "$A\\mathbf{u} = \\mathbf{b}$, where $\\mathbf{u}$ is the\n",
    "solution of the problem. The solution is stored in a\n",
    "a finite element function `uh` defined over the same finite\n",
    "element space $V$ as the trial functions.\n",
    "\n",
    "In this case we use a direct solver (Cholesky) to solve the\n",
    "linear system. However, due to the potentially ill-conditioning\n",
    "of the matrix, we use a (symmetric) Jacobi preconditioner.\n",
    "It is known that Jacobi preconditioners are not very effective\n",
    "for Lagrange elements, but still help."
   ]
  },
  {
   "cell_type": "code",
   "execution_count": null,
   "id": "c08e1986",
   "metadata": {
    "lines_to_next_cell": 2
   },
   "outputs": [],
   "source": [
    "petsc_options = {\n",
    "    \"ksp_type\": \"preonly\",\n",
    "    \"pc_type\": \"cholesky\",\n",
    "    \"ksp_diagonal_scale\": True,  # Jacobi\n",
    "    # \"ksp_diagonal_scale_fix\": True, # transformsa back A an b after Jacobi\n",
    "}\n",
    "\n",
    "problem = LinearProblem(ufl.lhs(F), ufl.rhs(F), petsc_options=petsc_options)\n",
    "problem.solve()\n",
    "\n",
    "uh = problem.u"
   ]
  },
  {
   "cell_type": "markdown",
   "id": "ebc3a576",
   "metadata": {},
   "source": [
    "### Error calculation"
   ]
  },
  {
   "cell_type": "markdown",
   "id": "701468ce",
   "metadata": {},
   "source": [
    "The $L^2$ error of the projection is computed.\n",
    "In this case we slightly increase the number of quadrature points\n",
    "used to compute the error for achieving a higher accuracy."
   ]
  },
  {
   "cell_type": "code",
   "execution_count": null,
   "id": "0ebb14a0",
   "metadata": {},
   "outputs": [],
   "source": [
    "n_quad_pts = 2 * degree + 2\n",
    "quad_degree = 2 * n_quad_pts + 1\n",
    "error_form: qugar.dolfinx.CustomForm = form_custom(\n",
    "    (uh - f) ** 2 * ufl.dx(degree=quad_degree), unf_mesh, dtype=dtype\n",
    ")\n",
    "error_L2 = np.sqrt(\n",
    "    unf_mesh.comm.allreduce(\n",
    "        dolfinx.fem.assemble_scalar(error_form, coeffs=error_form.pack_coefficients()),\n",
    "        op=MPI.SUM,\n",
    "    )\n",
    ")\n",
    "if unf_mesh.comm.rank == 0:\n",
    "    print(f\"L2-error: {error_L2:.2e}\")"
   ]
  },
  {
   "cell_type": "markdown",
   "id": "cffc055a",
   "metadata": {},
   "source": [
    "### Visualization"
   ]
  },
  {
   "cell_type": "markdown",
   "id": "646fb65b",
   "metadata": {},
   "source": [
    "Finally, we visualize the obtained solution by generating\n",
    "an auxiliar mesh that reparameterizes the unfitted domain.\n",
    "This mesh approximates the domain using an arbitrary order fitted\n",
    "tessellation made of discontinuous (and possibly degenerated)\n",
    "Lagrange elements.\n",
    "\n",
    "An extra mesh corresponding to the wirebasket\n",
    "(the line intersections of the domain $\\Omega$ with the Cartesian mesh\n",
    "$\\mathcal{T}$ iso-planes) is also generated to improve the solution's visualization."
   ]
  },
  {
   "cell_type": "code",
   "execution_count": null,
   "id": "11daf14f",
   "metadata": {},
   "outputs": [],
   "source": [
    "rep_degree = 3\n",
    "reparam = qugar.reparam.create_reparam_mesh(unf_mesh, degree=rep_degree, levelset=False)\n",
    "rep_mesh = reparam.create_mesh()\n",
    "rep_mesh_wb = reparam.create_mesh(wirebasket=True)"
   ]
  },
  {
   "cell_type": "markdown",
   "id": "32d380ab",
   "metadata": {},
   "source": [
    "In order to visualize the computed solution, we interpolate it into the\n",
    "generated meshes. For doing so we create new spaces associated to the\n",
    "meshes and interpolate the solution into them (using the\n",
    "`interpolate_nonmatching` DOLFINx's function). Note that even if the\n",
    "element types of the new spaces `Vrep` and `Vrep_wb` are continuous\n",
    "(`CG`), the underlying meshes are discontinuous, so they will be the\n",
    "generated functions."
   ]
  },
  {
   "cell_type": "code",
   "execution_count": null,
   "id": "c10a9924",
   "metadata": {
    "lines_to_next_cell": 2
   },
   "outputs": [],
   "source": [
    "Vrep = dolfinx.fem.functionspace(rep_mesh, (\"CG\", rep_degree))\n",
    "interp_data = qugar.reparam.create_interpolation_data(Vrep, V)\n",
    "uh_rep = dolfinx.fem.Function(Vrep, dtype=dtype)\n",
    "uh_rep.interpolate_nonmatching(uh, *interp_data)\n",
    "\n",
    "Vrep_wb = dolfinx.fem.functionspace(rep_mesh_wb, (\"CG\", rep_degree))\n",
    "interp_data_wb = qugar.reparam.create_interpolation_data(Vrep_wb, V)\n",
    "uh_rep_wb = dolfinx.fem.Function(Vrep_wb, dtype=dtype)\n",
    "uh_rep_wb.interpolate_nonmatching(uh, *interp_data_wb)"
   ]
  },
  {
   "cell_type": "markdown",
   "id": "fcd6df21",
   "metadata": {},
   "source": [
    "Both meshes are then exported to VTK files and can be visualized using\n",
    "[ParaView](https://www.paraview.org/). In the case in which\n",
    "`rep_degree > 1`, the parameter `Nonlinear Subdivision Level` value\n",
    "(under the advanced properties menu in ParaView) can be adjusted to\n",
    "generate higher-quality visualizations."
   ]
  },
  {
   "cell_type": "code",
   "execution_count": null,
   "id": "202f541f",
   "metadata": {
    "lines_to_next_cell": 2
   },
   "outputs": [],
   "source": [
    "results_folder = Path(\"results\")\n",
    "results_folder.mkdir(exist_ok=True, parents=True)\n",
    "filename = results_folder / \"L2_projection\"\n",
    "\n",
    "with dolfinx.io.VTKFile(rep_mesh.comm, filename.with_suffix(\".pvd\"), \"w\") as vtk:\n",
    "    vtk.write_function(uh_rep)\n",
    "    vtk.write_function(uh_rep_wb)"
   ]
  },
  {
   "cell_type": "markdown",
   "id": "d33fecc1",
   "metadata": {},
   "source": [
    "Other DOLFINx file writers (as\n",
    "[VTXWriter](https://docs.fenicsproject.org/dolfinx/main/python/generated/dolfinx.io.html#dolfinx.io.VTXWriter)\n",
    "or [XDMFFile](https://docs.fenicsproject.org/dolfinx/main/python/generated/dolfinx.io.html#dolfinx.io.XDMFFile))\n",
    "could be also used, however, be aware that between `VTKFFile` and\n",
    "`XDMFFile`, the former is the [recommended option for high-degrees](https://docs.fenicsproject.org/dolfinx/main/python/generated/dolfinx.io.html#dolfinx.io.VTKFile)."
   ]
  }
 ],
 "metadata": {
  "jupytext": {
   "main_language": "python"
  }
 },
 "nbformat": 4,
 "nbformat_minor": 5
}
