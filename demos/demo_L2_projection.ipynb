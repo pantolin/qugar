{
 "cells": [
  {
   "cell_type": "markdown",
   "id": "704711b8",
   "metadata": {},
   "source": [
    "# $L^2$ projection\n",
    "\n",
    "This demo is implemented in {download}`demo_L2_projection.py`. It\n",
    "illustrates:\n",
    "\n",
    "- How to perform a $L^2$ projection using QUGaR and FEniCSx.\n",
    "- How to export the generated result to VTK files.\n",
    "\n",
    "## Problem definition\n",
    "\n",
    "Let us consider the domain $\\Omega \\subset \\mathbb{R}^n$,\n",
    "immersed in a mesh $\\mathcal{T}(\\Omega)$ (see\n",
    "[Divergence theorem demo](demo_div_thm.md) first for further details\n",
    "about the immersed setting), and the function\n",
    "$f:\\Omega\\to\\mathbb{R}$ defined as $f(x,y,z) = \\sin(x)\\cos(y)\\sin(z)$.\n",
    "Let us also consider a finite element space $V$ defined over the mesh\n",
    "$\\mathcal{T}(\\Omega)$, then, computing the $L^2$ projection\n",
    "of $f$ onto $V$ is equivalent to solving the following variational\n",
    "problem:\n",
    "$\n",
    "\\begin{align}\n",
    "  \\text{Find } u\\in V \\text{ such that } \\forall v\\in V:\n",
    "  \\int_{\\Omega} u v \\text{d} x = \\int_{\\Omega} f v \\text{d} x\n",
    "\\end{align}\n",
    "$\n",
    "\n",
    "## Implementation\n",
    "\n",
    "### Modules import\n",
    "First we add the needed modules and functions to be used:"
   ]
  },
  {
   "cell_type": "code",
   "execution_count": null,
   "id": "63c69ef0",
   "metadata": {},
   "outputs": [],
   "source": [
    "from pathlib import Path\n",
    "\n",
    "from mpi4py import MPI\n",
    "from petsc4py import PETSc\n",
    "\n",
    "import dolfinx.fem\n",
    "import dolfinx.fem.petsc\n",
    "import dolfinx.io\n",
    "import numpy as np\n",
    "import ufl\n",
    "\n",
    "import qugar\n",
    "import qugar.impl\n",
    "from qugar.dolfinx import form_custom\n",
    "from qugar.mesh import create_unfitted_impl_Cartesian_mesh\n"
   ]
  },
  {
   "cell_type": "markdown",
   "id": "dd02fc0b",
   "metadata": {},
   "source": [
    "We define the floating point type to be used in the computations.\n",
    "So far, QUGaR supports 32 and 64 bits real floating point types.\n",
    "In the near future support for 64 and 128 bits complex types will be\n",
    "also available."
   ]
  },
  {
   "cell_type": "code",
   "execution_count": null,
   "id": "da5c07e8",
   "metadata": {},
   "outputs": [],
   "source": [
    "dtype = np.float64"
   ]
  },
  {
   "cell_type": "markdown",
   "id": "b0a8fe47",
   "metadata": {},
   "source": [
    "### Geometry and mesh"
   ]
  },
  {
   "cell_type": "markdown",
   "id": "94b0f529",
   "metadata": {},
   "source": [
    "We define the geometry to be considered: in this case a\n",
    "{py:class}`Schoen gyroid<qugar.impl.create_Schoen>` in 3D defined\n",
    "through an implicit function.\n",
    "The domain can be easily changed by just choosing a different implicit\n",
    "function among the available ones (see\n",
    "[Implicit functions demo](demo_impl_funcs.md) for some examples)."
   ]
  },
  {
   "cell_type": "code",
   "execution_count": null,
   "id": "1c7602d9",
   "metadata": {},
   "outputs": [],
   "source": [
    "impl_func = qugar.impl.create_Schoen([1.0, 1.0, 1.0])"
   ]
  },
  {
   "cell_type": "markdown",
   "id": "a44b3e68",
   "metadata": {},
   "source": [
    "We create an {py:class}`unfitted Cartesian mesh<qugar.mesh.UnfittedCartMesh>`\n",
    "(corresponding to $\\mathcal{T}$) in which we embed the domain $\\Omega$.\n",
    "This is a Cartesian mesh corresponding to the domain $[0,1]^3$ and\n",
    "with `n_cells` cells per direction."
   ]
  },
  {
   "cell_type": "code",
   "execution_count": null,
   "id": "9faa1e24",
   "metadata": {},
   "outputs": [],
   "source": [
    "n_cells = 4\n",
    "\n",
    "unf_mesh = create_unfitted_impl_Cartesian_mesh(\n",
    "    MPI.COMM_WORLD, impl_func, n_cells, exclude_empty_cells=True, dtype=dtype\n",
    ")"
   ]
  },
  {
   "cell_type": "markdown",
   "id": "0ff81132",
   "metadata": {},
   "source": [
    "The option `exclude_empty_cells` (set to `True`) prevents the\n",
    "generation of empty cells in the mesh (those not intersecting $\\Omega$).\n",
    "This is useful to eliminate inactive degrees of freedom in the\n",
    "problem."
   ]
  },
  {
   "cell_type": "markdown",
   "id": "332c7698",
   "metadata": {},
   "source": [
    "### Spaces and functions"
   ]
  },
  {
   "cell_type": "markdown",
   "id": "d5f62447",
   "metadata": {},
   "source": [
    "We create the function $\\mathbf{f}$."
   ]
  },
  {
   "cell_type": "code",
   "execution_count": null,
   "id": "c2ebf525",
   "metadata": {},
   "outputs": [],
   "source": [
    "x = ufl.SpatialCoordinate(unf_mesh)\n",
    "f = ufl.sin(x[0]) * ufl.cos(x[1]) * ufl.sin(x[2])"
   ]
  },
  {
   "cell_type": "markdown",
   "id": "0250f1ec",
   "metadata": {},
   "source": [
    "and the finite element space $V$ over the unfitted mesh\n",
    "(corresponding to the mesh $\\mathcal{T}$), and the test and trial\n",
    "functions $u$ and $v$.\n",
    "The finite element space is defined as a Lagrange space of the given\n",
    "`degree` (2 in this case)."
   ]
  },
  {
   "cell_type": "code",
   "execution_count": null,
   "id": "1fa1bc4c",
   "metadata": {},
   "outputs": [],
   "source": [
    "degree = 2\n",
    "V = dolfinx.fem.functionspace(unf_mesh, (\"Lagrange\", degree))\n",
    "u, v = ufl.TrialFunction(V), ufl.TestFunction(V)"
   ]
  },
  {
   "cell_type": "markdown",
   "id": "7b137a08",
   "metadata": {},
   "source": [
    "### Linear forms"
   ]
  },
  {
   "cell_type": "markdown",
   "id": "c6dc1050",
   "metadata": {},
   "source": [
    "We define the variational problem to be solved, which is\n",
    "equivalent to the $L^2$ projection of $f$ onto $V$, and generate\n",
    "the corresponding bilinear and linear forms `a` and `L` using\n",
    "QUGaR's custom form functions."
   ]
  },
  {
   "cell_type": "code",
   "execution_count": null,
   "id": "d1172656",
   "metadata": {},
   "outputs": [],
   "source": [
    "F = u * v * ufl.dx - f * v * ufl.dx\n",
    "\n",
    "a = form_custom(ufl.lhs(F), unf_mesh, dtype=dtype)\n",
    "L = form_custom(ufl.rhs(F), unf_mesh, dtype=dtype)"
   ]
  },
  {
   "cell_type": "markdown",
   "id": "71727529",
   "metadata": {},
   "source": [
    "Using those forms we can assemble the corresponding\n",
    "stiffness {py:class}`PETSc matrix<dolfinx.fem.petsc.assemble_matrix>`\n",
    "`A` and right-hand-side\n",
    "{py:class}`PETSc vector<dolfinx.fem.petsc.assemble_vector>` `b`\n",
    "array for each coefficient.\n"
   ]
  },
  {
   "cell_type": "code",
   "execution_count": null,
   "id": "ef08ea6f",
   "metadata": {},
   "outputs": [],
   "source": [
    "A = dolfinx.fem.petsc.assemble_matrix(a, coeffs=a.pack_coefficients())\n",
    "A.assemble()\n",
    "\n",
    "b = dolfinx.fem.petsc.assemble_vector(L, coeffs=L.pack_coefficients())"
   ]
  },
  {
   "cell_type": "markdown",
   "id": "2cfe976b",
   "metadata": {},
   "source": [
    "### Linear system solution"
   ]
  },
  {
   "cell_type": "markdown",
   "id": "5017f3e4",
   "metadata": {},
   "source": [
    "We solve the associated linear system\n",
    "$A\\mathbf{u} = \\mathbf{b}$, where $\\mathbf{u}$ is the\n",
    "solution of the problem. The solution is stored in a\n",
    "a finite element function `uh` defined over the same finite\n",
    "element space $V$ as the trial functions.\n",
    "\n",
    "In this case we use a direct solver (LU) to solve the\n",
    "linear system."
   ]
  },
  {
   "cell_type": "code",
   "execution_count": null,
   "id": "75decc68",
   "metadata": {},
   "outputs": [],
   "source": [
    "uh = dolfinx.fem.Function(V)\n",
    "\n",
    "solver = PETSc.KSP().create(unf_mesh.comm)\n",
    "solver.setOperators(A)\n",
    "solver.setType(PETSc.KSP.Type.PREONLY)\n",
    "solver.getPC().setType(PETSc.PC.Type.LU)\n",
    "\n",
    "solver.solve(b, uh.x.petsc_vec)\n",
    "uh.x.scatter_forward()"
   ]
  },
  {
   "cell_type": "markdown",
   "id": "575e5282",
   "metadata": {},
   "source": [
    "Due to the matrix being ill-conditioned, the solver above\n",
    "may fail to provide a stable solution.\n",
    "As a (brutal) temporary workaround we solve the system\n",
    "by transforming the matrix to a dense matrix and using\n",
    "a direct solver (LU) provided by NumPy.\n",
    "Suitable preconditioner (e.g., Jacobi) will be implemented\n",
    "in the future."
   ]
  },
  {
   "cell_type": "code",
   "execution_count": null,
   "id": "ac2e7315",
   "metadata": {},
   "outputs": [],
   "source": [
    "A_full = A.convert(\"dense\").getDenseArray()\n",
    "uh.x.array[:] = np.linalg.solve(A_full, b.array)\n",
    "print(f\"Matrix conditioning: {np.linalg.cond(A_full)}\")\n",
    "print(f\"Diagonal minimum value: {np.min(np.diag(A_full))}\")"
   ]
  },
  {
   "cell_type": "markdown",
   "id": "43267355",
   "metadata": {},
   "source": [
    "### Error calculation"
   ]
  },
  {
   "cell_type": "markdown",
   "id": "52323026",
   "metadata": {},
   "source": [
    "The $L^2$ error of the projection can be computed as"
   ]
  },
  {
   "cell_type": "code",
   "execution_count": null,
   "id": "611818bd",
   "metadata": {},
   "outputs": [],
   "source": [
    "error_form: qugar.dolfinx.CustomForm = form_custom((uh - f) ** 2 * ufl.dx, unf_mesh, dtype=dtype)\n",
    "error_L2 = np.sqrt(\n",
    "    unf_mesh.comm.allreduce(\n",
    "        dolfinx.fem.assemble_scalar(error_form, coeffs=error_form.pack_coefficients()),\n",
    "        op=MPI.SUM,\n",
    "    )\n",
    ")\n",
    "if unf_mesh.comm.rank == 0:\n",
    "    print(f\"L2-error: {error_L2:.2e}\")"
   ]
  },
  {
   "cell_type": "markdown",
   "id": "9340cb4d",
   "metadata": {},
   "source": [
    "### Visualization"
   ]
  },
  {
   "cell_type": "markdown",
   "id": "893c3c1e",
   "metadata": {},
   "source": [
    "Finally, we visualize the obtained solution by generating\n",
    "an auxiliar mesh that reparameterizes the unfitted domain.\n",
    "This mesh approximates the domain using an arbitrary order fitted\n",
    "tessellation made of discontinuous (and possibly degenerated)\n",
    "Lagrange elements.\n",
    "\n",
    "An extra mesh corresponding to the wirebasket\n",
    "(the line intersections of the domain $\\Omega$ with the Cartesian mesh\n",
    "$\\mathcal{T}$ iso-planes) is also generated to improve the solution's visualization."
   ]
  },
  {
   "cell_type": "code",
   "execution_count": null,
   "id": "2424c99e",
   "metadata": {},
   "outputs": [],
   "source": [
    "reparam_degree = 3\n",
    "reparam = qugar.reparam.create_reparam_mesh(unf_mesh, degree=reparam_degree, levelset=False)\n",
    "reparam_mesh = reparam.create_mesh()\n",
    "reparam_mesh_wb = reparam.create_mesh(wirebasket=True)"
   ]
  },
  {
   "cell_type": "markdown",
   "id": "e3a9679b",
   "metadata": {},
   "source": [
    "In order to visualize the computed solution, we interpolate it into the\n",
    "reparameterized mesh. For doing so we create a new\n",
    "space using the reparameterized mesh and interpolate\n",
    "the solution into it (using the `interpolate_nonmatching` DOLFINx's\n",
    "function). Note that even if the element type of `V_reparam` is\n",
    "continuous (`CG`), the underlying mesh is discontinuous, so it will be\n",
    "the generated function."
   ]
  },
  {
   "cell_type": "code",
   "execution_count": null,
   "id": "d15b2d01",
   "metadata": {
    "lines_to_next_cell": 2
   },
   "outputs": [],
   "source": [
    "V_reparam = dolfinx.fem.functionspace(reparam_mesh, (\"CG\", reparam_degree))\n",
    "uh_reparam = dolfinx.fem.Function(V_reparam, dtype=dtype)\n",
    "\n",
    "cmap = reparam_mesh.topology.index_map(reparam_mesh.topology.dim)\n",
    "num_cells = cmap.size_local + cmap.num_ghosts\n",
    "cells = np.arange(num_cells, dtype=np.int32)\n",
    "interpolation_data = dolfinx.fem.create_interpolation_data(V_reparam, V, cells, padding=1.0e-14)\n",
    "\n",
    "uh_reparam.interpolate_nonmatching(uh, cells, interpolation_data=interpolation_data)"
   ]
  },
  {
   "cell_type": "markdown",
   "id": "a860347a",
   "metadata": {},
   "source": [
    "Both meshes are then exported to VTK files and can be visualized using\n",
    "[ParaView](https://www.paraview.org/). In the case in which\n",
    "`reparam_degree > 1`, the parameter `Nonlinear Subdivision Level` value\n",
    "(under the advanced properties menu in ParaView) can be adjusted to\n",
    "generate higher-quality visualizations."
   ]
  },
  {
   "cell_type": "code",
   "execution_count": null,
   "id": "56c47cda",
   "metadata": {
    "lines_to_next_cell": 2
   },
   "outputs": [],
   "source": [
    "results_folder = Path(\"results\")\n",
    "results_folder.mkdir(exist_ok=True, parents=True)\n",
    "filename = results_folder / \"L2_projection\"\n",
    "\n",
    "with dolfinx.io.VTKFile(reparam_mesh.comm, filename.with_suffix(\".pvd\"), \"w\") as vtk:\n",
    "    vtk.write_function(uh_reparam)\n",
    "    vtk.write_mesh(reparam_mesh_wb)"
   ]
  },
  {
   "cell_type": "markdown",
   "id": "2c98f6ba",
   "metadata": {},
   "source": [
    "Other DOLFINx file writers (as\n",
    "[VTXWriter](https://docs.fenicsproject.org/dolfinx/main/python/generated/dolfinx.io.html#dolfinx.io.VTXWriter)\n",
    "or [XDMFFile](https://docs.fenicsproject.org/dolfinx/main/python/generated/dolfinx.io.html#dolfinx.io.XDMFFile))\n",
    "should be also usable, however, be aware that between `VTKFFile` and\n",
    "`XDMFFile`, the former is the recommended option for high-degrees\n",
    "(as hinted in [DOLFINx documentation](https://docs.fenicsproject.org/dolfinx/main/python/generated/dolfinx.io.html#dolfinx.io.VTKFile))."
   ]
  }
 ],
 "metadata": {
  "jupytext": {
   "main_language": "python"
  }
 },
 "nbformat": 4,
 "nbformat_minor": 5
}
